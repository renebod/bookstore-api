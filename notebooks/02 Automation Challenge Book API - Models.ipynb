{
 "cells": [
  {
   "cell_type": "markdown",
   "metadata": {},
   "source": [
    "## Python imports"
   ]
  },
  {
   "cell_type": "code",
   "execution_count": 5,
   "metadata": {
    "scrolled": true
   },
   "outputs": [],
   "source": [
    "import requests\n",
    "from bs4 import BeautifulSoup\n",
    "from jinja2 import Template"
   ]
  },
  {
   "cell_type": "markdown",
   "metadata": {},
   "source": [
    "## Show Django Admin Page Title"
   ]
  },
  {
   "cell_type": "code",
   "execution_count": 2,
   "metadata": {},
   "outputs": [
    {
     "data": {
      "text/plain": [
       "'Log in | Django site admin'"
      ]
     },
     "execution_count": 2,
     "metadata": {},
     "output_type": "execute_result"
    }
   ],
   "source": [
    "url = 'http://bookstore:8000/admin'\n",
    "\n",
    "def page_title(url):\n",
    "    page = requests.get(url)\n",
    "    soup = BeautifulSoup(page.content, 'html.parser')\n",
    "    return soup.title.string\n",
    "\n",
    "page_title(url)"
   ]
  },
  {
   "cell_type": "markdown",
   "metadata": {},
   "source": [
    "## Add Application"
   ]
  },
  {
   "cell_type": "code",
   "execution_count": 2,
   "metadata": {},
   "outputs": [],
   "source": [
    "applist = \"INSTALLED_APPS = [\\n\\\n",
    "    'django.contrib.admin',\\n\\\n",
    "    'django.contrib.auth',\\n\\\n",
    "    'django.contrib.contenttypes',\\n\\\n",
    "    'django.contrib.sessions',\\n\\\n",
    "    'django.contrib.messages',\\n\\\n",
    "    'django.contrib.staticfiles',\\n\\\n",
    "]\"\n",
    "\n",
    "newlist = \"INSTALLED_APPS = [\\n\\\n",
    "    'django.contrib.admin',\\n\\\n",
    "    'django.contrib.auth',\\n\\\n",
    "    'django.contrib.contenttypes',\\n\\\n",
    "    'django.contrib.sessions',\\n\\\n",
    "    'django.contrib.messages',\\n\\\n",
    "    'django.contrib.staticfiles',\\n\\\n",
    "    'django_extensions',\\n\\\n",
    "    'rest_framework',\\n\\\n",
    "    'bookstore',\\n\\\n",
    "]\""
   ]
  },
  {
   "cell_type": "code",
   "execution_count": 3,
   "metadata": {
    "scrolled": true
   },
   "outputs": [],
   "source": [
    "file = '/bookstore/project/settings.py'\n",
    "    \n",
    "with open(file, 'r') as settings_file:\n",
    "    data = settings_file.read()\n",
    "    data = data.replace(applist, newlist)\n",
    "with open(file, 'w') as settings_file:\n",
    "    write_file = settings_file.write(data)"
   ]
  },
  {
   "cell_type": "markdown",
   "metadata": {},
   "source": [
    "## Jinja example\n",
    "\n",
    "Web frameworks like Flask and Django, or automation ones like Ansible and Salt, provide out of the box support for Jinja. It's a natural choice for templating engine when using any of those. Ansible even uses a lot of the Jinja syntax in its Playbooks.\n",
    "\n",
    "Jinja2 essentially needs two source ingredients, template and data that will be used to render the final document."
   ]
  },
  {
   "cell_type": "markdown",
   "metadata": {},
   "source": [
    "![title](images/jinja.png)"
   ]
  },
  {
   "cell_type": "code",
   "execution_count": 5,
   "metadata": {},
   "outputs": [
    {
     "name": "stdout",
     "output_type": "stream",
     "text": [
      "My name is Peter and I am 34\n"
     ]
    }
   ],
   "source": [
    "name = 'Peter'\n",
    "age = 34\n",
    "\n",
    "template = Template(\"My name is {{ name }} and I am {{ age }}\")\n",
    "msg = template.render(name=name, age=age)\n",
    "\n",
    "print(msg)"
   ]
  },
  {
   "cell_type": "markdown",
   "metadata": {},
   "source": [
    "## Getting data in and out of Django"
   ]
  },
  {
   "cell_type": "code",
   "execution_count": 7,
   "metadata": {},
   "outputs": [
    {
     "name": "stdout",
     "output_type": "stream",
     "text": [
      "from django.db import models\n",
      "\n",
      "\n",
      "# Create your models here.\n",
      "class Author(models.Model):\n",
      "    name = models.CharField(\"Author\", max_length=20)\n",
      "\n",
      "    def __str__(self):\n",
      "        return self.name\n",
      "\n",
      "\n",
      "class Book(models.Model):\n",
      "    title = models.CharField(\"Title\",max_length=100)\n",
      "    author = models.ForeignKey(Author,related_name='books',on_delete=models.CASCADE)\n",
      "\n",
      "    def __str__(self):\n",
      "        return self.title\n"
     ]
    }
   ],
   "source": [
    "file = '/bookstore/bookstore/models.py'    \n",
    "    \n",
    "with open(file, 'w') as models_file:\n",
    "    template = Template(open('/templates/models.j2', 'r').read())\n",
    "    print(template.render())\n",
    "    models_file.write(template.render())"
   ]
  },
  {
   "cell_type": "code",
   "execution_count": 13,
   "metadata": {},
   "outputs": [
    {
     "name": "stdout",
     "output_type": "stream",
     "text": [
      "Migrations for 'bookstore':\n",
      "  bookstore/migrations/0001_initial.py\n",
      "    - Create model Author\n",
      "    - Create model Book\n",
      "Operations to perform:\n",
      "  Apply all migrations: admin, auth, bookstore, contenttypes, sessions\n",
      "Running migrations:\n",
      "  Applying bookstore.0001_initial... OK\n",
      "System check identified no issues (0 silenced).\n"
     ]
    }
   ],
   "source": [
    "%%bash\n",
    "\n",
    "cd /bookstore\n",
    "python manage.py makemigrations bookstore\n",
    "python manage.py migrate\n",
    "python manage.py check"
   ]
  },
  {
   "cell_type": "markdown",
   "metadata": {},
   "source": [
    "## Update Admin"
   ]
  },
  {
   "cell_type": "code",
   "execution_count": 10,
   "metadata": {},
   "outputs": [
    {
     "name": "stdout",
     "output_type": "stream",
     "text": [
      "from django.contrib import admin\n",
      "from .models import *\n",
      "\n",
      "\n",
      "# Register your models here.\n",
      "admin.site.register(Author)\n",
      "admin.site.register(Book)\n"
     ]
    }
   ],
   "source": [
    "file = '/bookstore/bookstore/admin.py'  \n",
    "    \n",
    "with open(file, 'w') as admin_file:\n",
    "    template = Template(open('/templates/admin.j2', 'r').read())\n",
    "    print(template.render())\n",
    "    admin_file.write(template.render())"
   ]
  },
  {
   "cell_type": "code",
   "execution_count": 11,
   "metadata": {},
   "outputs": [
    {
     "name": "stdout",
     "output_type": "stream",
     "text": [
      "Superuser creation skipped due to not running in a TTY. You can run `manage.py createsuperuser` in your project to create one manually.\n"
     ]
    }
   ],
   "source": [
    "%%bash\n",
    "\n",
    "cd /bookstore\n",
    "python manage.py createsuperuser"
   ]
  },
  {
   "cell_type": "markdown",
   "metadata": {},
   "source": [
    "## Challenge #2\n",
    "### Explain how to login and manually create a book entry through the admin page"
   ]
  }
 ],
 "metadata": {
  "kernelspec": {
   "display_name": "Python 3 (ipykernel)",
   "language": "python",
   "name": "python3"
  },
  "language_info": {
   "codemirror_mode": {
    "name": "ipython",
    "version": 3
   },
   "file_extension": ".py",
   "mimetype": "text/x-python",
   "name": "python",
   "nbconvert_exporter": "python",
   "pygments_lexer": "ipython3",
   "version": "3.10.4"
  }
 },
 "nbformat": 4,
 "nbformat_minor": 4
}
