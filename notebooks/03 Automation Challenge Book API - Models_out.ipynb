{
 "cells": [
  {
   "cell_type": "markdown",
   "metadata": {},
   "source": [
    "## Python imports"
   ]
  },
  {
   "cell_type": "code",
   "execution_count": 1,
   "metadata": {
    "execution": {
     "iopub.execute_input": "2022-08-10T09:47:24.276012Z",
     "iopub.status.busy": "2022-08-10T09:47:24.275393Z",
     "iopub.status.idle": "2022-08-10T09:47:24.472541Z",
     "shell.execute_reply": "2022-08-10T09:47:24.471544Z"
    },
    "scrolled": true
   },
   "outputs": [],
   "source": [
    "import os\n",
    "import sys\n",
    "import requests\n",
    "from bs4 import BeautifulSoup\n",
    "from jinja2 import Template"
   ]
  },
  {
   "cell_type": "markdown",
   "metadata": {},
   "source": [
    "### _Load Django into Jupyter_"
   ]
  },
  {
   "cell_type": "code",
   "execution_count": 2,
   "metadata": {
    "execution": {
     "iopub.execute_input": "2022-08-10T09:47:24.478759Z",
     "iopub.status.busy": "2022-08-10T09:47:24.477784Z",
     "iopub.status.idle": "2022-08-10T09:47:24.747386Z",
     "shell.execute_reply": "2022-08-10T09:47:24.746374Z"
    }
   },
   "outputs": [],
   "source": [
    "sys.path.append('/bookstore')\n",
    "sys.path.append('/bookstore/project')\n",
    "os.environ['DJANGO_SETTINGS_MODULE'] = 'project.settings'\n",
    "os.environ['DJANGO_ALLOW_ASYNC_UNSAFE'] = 'true'\n",
    "import django\n",
    "django.setup()"
   ]
  },
  {
   "cell_type": "markdown",
   "metadata": {},
   "source": [
    "## Show Django Admin Page Title"
   ]
  },
  {
   "cell_type": "code",
   "execution_count": 3,
   "metadata": {
    "execution": {
     "iopub.execute_input": "2022-08-10T09:47:24.752710Z",
     "iopub.status.busy": "2022-08-10T09:47:24.752335Z",
     "iopub.status.idle": "2022-08-10T09:47:24.875234Z",
     "shell.execute_reply": "2022-08-10T09:47:24.874367Z"
    }
   },
   "outputs": [
    {
     "data": {
      "text/plain": [
       "'Log in | Django site admin'"
      ]
     },
     "execution_count": 3,
     "metadata": {},
     "output_type": "execute_result"
    }
   ],
   "source": [
    "url = 'http://bookstore:8000/admin'\n",
    "\n",
    "def page_title(url):\n",
    "    page = requests.get(url)\n",
    "    soup = BeautifulSoup(page.content, 'html.parser')\n",
    "    return soup.title.string\n",
    "\n",
    "page_title(url)"
   ]
  },
  {
   "cell_type": "markdown",
   "metadata": {},
   "source": [
    "## Add Application"
   ]
  },
  {
   "cell_type": "code",
   "execution_count": 4,
   "metadata": {
    "execution": {
     "iopub.execute_input": "2022-08-10T09:47:24.934015Z",
     "iopub.status.busy": "2022-08-10T09:47:24.933619Z",
     "iopub.status.idle": "2022-08-10T09:47:24.938988Z",
     "shell.execute_reply": "2022-08-10T09:47:24.938149Z"
    }
   },
   "outputs": [],
   "source": [
    "applist = \"INSTALLED_APPS = [\\n\\\n",
    "    'django.contrib.admin',\\n\\\n",
    "    'django.contrib.auth',\\n\\\n",
    "    'django.contrib.contenttypes',\\n\\\n",
    "    'django.contrib.sessions',\\n\\\n",
    "    'django.contrib.messages',\\n\\\n",
    "    'django.contrib.staticfiles',\\n\\\n",
    "]\"\n",
    "\n",
    "newlist = \"INSTALLED_APPS = [\\n\\\n",
    "    'django.contrib.admin',\\n\\\n",
    "    'django.contrib.auth',\\n\\\n",
    "    'django.contrib.contenttypes',\\n\\\n",
    "    'django.contrib.sessions',\\n\\\n",
    "    'django.contrib.messages',\\n\\\n",
    "    'django.contrib.staticfiles',\\n\\\n",
    "    'django_extensions',\\n\\\n",
    "    'rest_framework',\\n\\\n",
    "    'django_filters',\\n\\\n",
    "    'simple_history',\\n\\\n",
    "    'bookstore',\\n\\\n",
    "]\""
   ]
  },
  {
   "cell_type": "code",
   "execution_count": 5,
   "metadata": {
    "execution": {
     "iopub.execute_input": "2022-08-10T09:47:24.942785Z",
     "iopub.status.busy": "2022-08-10T09:47:24.942387Z",
     "iopub.status.idle": "2022-08-10T09:47:24.949088Z",
     "shell.execute_reply": "2022-08-10T09:47:24.947857Z"
    },
    "scrolled": true
   },
   "outputs": [],
   "source": [
    "file = '/bookstore/project/settings.py'\n",
    "    \n",
    "with open(file, 'r') as settings_file:\n",
    "    data = settings_file.read()\n",
    "    data = data.replace(applist, newlist)\n",
    "with open(file, 'w') as settings_file:\n",
    "    write_file = settings_file.write(data)"
   ]
  },
  {
   "cell_type": "code",
   "execution_count": 6,
   "metadata": {
    "execution": {
     "iopub.execute_input": "2022-08-10T09:47:24.953322Z",
     "iopub.status.busy": "2022-08-10T09:47:24.953018Z",
     "iopub.status.idle": "2022-08-10T09:47:24.957958Z",
     "shell.execute_reply": "2022-08-10T09:47:24.957131Z"
    }
   },
   "outputs": [],
   "source": [
    "middleware = \"MIDDLEWARE = [\\n\\\n",
    "    'django.middleware.security.SecurityMiddleware',\\n\\\n",
    "    'django.contrib.sessions.middleware.SessionMiddleware',\\n\\\n",
    "    'django.middleware.common.CommonMiddleware',\\n\\\n",
    "    'django.middleware.csrf.CsrfViewMiddleware',\\n\\\n",
    "    'django.contrib.auth.middleware.AuthenticationMiddleware',\\n\\\n",
    "    'django.contrib.messages.middleware.MessageMiddleware',\\n\\\n",
    "    'django.middleware.clickjacking.XFrameOptionsMiddleware',\\n\\\n",
    "]\"\n",
    "\n",
    "middleware_new = \"MIDDLEWARE = [\\n\\\n",
    "    'django.middleware.security.SecurityMiddleware',\\n\\\n",
    "    'django.contrib.sessions.middleware.SessionMiddleware',\\n\\\n",
    "    'django.middleware.common.CommonMiddleware',\\n\\\n",
    "    'django.middleware.csrf.CsrfViewMiddleware',\\n\\\n",
    "    'django.contrib.auth.middleware.AuthenticationMiddleware',\\n\\\n",
    "    'django.contrib.messages.middleware.MessageMiddleware',\\n\\\n",
    "    'django.middleware.clickjacking.XFrameOptionsMiddleware',\\n\\\n",
    "    'simple_history.middleware.HistoryRequestMiddleware'\\n\\\n",
    "]\""
   ]
  },
  {
   "cell_type": "code",
   "execution_count": 7,
   "metadata": {
    "execution": {
     "iopub.execute_input": "2022-08-10T09:47:24.961757Z",
     "iopub.status.busy": "2022-08-10T09:47:24.961433Z",
     "iopub.status.idle": "2022-08-10T09:47:24.966949Z",
     "shell.execute_reply": "2022-08-10T09:47:24.966107Z"
    }
   },
   "outputs": [],
   "source": [
    "file = '/bookstore/project/settings.py'\n",
    "    \n",
    "with open(file, 'r') as settings_file:\n",
    "    data = settings_file.read()\n",
    "    data = data.replace(middleware, middleware_new)\n",
    "with open(file, 'w') as settings_file:\n",
    "    write_file = settings_file.write(data)"
   ]
  },
  {
   "cell_type": "markdown",
   "metadata": {},
   "source": [
    "## Jinja example\n",
    "\n",
    "Web frameworks like Flask and Django, or automation ones like Ansible and Salt, provide out of the box support for Jinja. It's a natural choice for templating engine when using any of those. Ansible even uses a lot of the Jinja syntax in its Playbooks.\n",
    "\n",
    "Jinja2 essentially needs two source ingredients, template and data that will be used to render the final document."
   ]
  },
  {
   "cell_type": "markdown",
   "metadata": {},
   "source": [
    "![title](images/jinja.png)"
   ]
  },
  {
   "cell_type": "code",
   "execution_count": 8,
   "metadata": {
    "execution": {
     "iopub.execute_input": "2022-08-10T09:47:24.985115Z",
     "iopub.status.busy": "2022-08-10T09:47:24.984147Z",
     "iopub.status.idle": "2022-08-10T09:47:24.993898Z",
     "shell.execute_reply": "2022-08-10T09:47:24.992984Z"
    }
   },
   "outputs": [
    {
     "name": "stdout",
     "output_type": "stream",
     "text": [
      "My name is Peter and I am 34\n"
     ]
    }
   ],
   "source": [
    "name = 'Peter'\n",
    "age = 34\n",
    "\n",
    "template = Template(\"My name is {{ name }} and I am {{ age }}\")\n",
    "msg = template.render(name=name, age=age)\n",
    "\n",
    "print(msg)"
   ]
  },
  {
   "cell_type": "markdown",
   "metadata": {},
   "source": [
    "## Getting data in and out of Django"
   ]
  },
  {
   "cell_type": "code",
   "execution_count": 9,
   "metadata": {
    "execution": {
     "iopub.execute_input": "2022-08-10T09:47:24.997951Z",
     "iopub.status.busy": "2022-08-10T09:47:24.997452Z",
     "iopub.status.idle": "2022-08-10T09:47:25.006963Z",
     "shell.execute_reply": "2022-08-10T09:47:25.005907Z"
    }
   },
   "outputs": [
    {
     "name": "stdout",
     "output_type": "stream",
     "text": [
      "from django.db import models\n",
      "from django.conf import settings\n",
      "from django.db.models.signals import post_save\n",
      "from django.dispatch import receiver\n",
      "import uuid\n",
      "from simple_history.models import HistoricalRecords\n",
      "\n",
      "\n",
      "\n",
      "class Author(models.Model):\n",
      "    name = models.CharField(\"Author\", max_length=20)\n",
      "    history = HistoricalRecords()\n",
      "\n",
      "    def __str__(self):\n",
      "        return self.name\n",
      "\n",
      "    class Meta:\n",
      "        ordering = ('id',)\n",
      "\n",
      "\n",
      "class Book(models.Model):\n",
      "    title = models.CharField(\"Title\",max_length=100)\n",
      "    author = models.ForeignKey(Author,related_name='books',on_delete=models.CASCADE)\n",
      "    history = HistoricalRecords()\n",
      "\n",
      "    def __str__(self):\n",
      "        return self.title\n",
      "\n",
      "    class Meta:\n",
      "        ordering = ('id',)\n",
      "\n"
     ]
    }
   ],
   "source": [
    "file = '/bookstore/bookstore/models.py'    \n",
    "    \n",
    "with open(file, 'w') as models_file:\n",
    "    template = Template(open('/templates/models.j2', 'r').read())\n",
    "#     print(template.render(splunk=False))\n",
    "    print(template.render(splunk=False))\n",
    "    models_file.write(template.render())"
   ]
  },
  {
   "cell_type": "code",
   "execution_count": 10,
   "metadata": {
    "execution": {
     "iopub.execute_input": "2022-08-10T09:47:25.011206Z",
     "iopub.status.busy": "2022-08-10T09:47:25.010675Z",
     "iopub.status.idle": "2022-08-10T09:47:25.014950Z",
     "shell.execute_reply": "2022-08-10T09:47:25.014069Z"
    }
   },
   "outputs": [],
   "source": [
    "# file = '/bookstore/bookstore/signals.py'    \n",
    "    \n",
    "# with open(file, 'w') as file:\n",
    "#     template = Template(open('/templates/signals.j2', 'r').read())\n",
    "#     print(template.render())\n",
    "#     file.write(template.render())"
   ]
  },
  {
   "cell_type": "code",
   "execution_count": 11,
   "metadata": {
    "execution": {
     "iopub.execute_input": "2022-08-10T09:47:25.018708Z",
     "iopub.status.busy": "2022-08-10T09:47:25.018126Z",
     "iopub.status.idle": "2022-08-10T09:47:28.668315Z",
     "shell.execute_reply": "2022-08-10T09:47:28.666296Z"
    }
   },
   "outputs": [
    {
     "name": "stdout",
     "output_type": "stream",
     "text": [
      "Migrations for 'bookstore':\n"
     ]
    },
    {
     "name": "stdout",
     "output_type": "stream",
     "text": [
      "  bookstore/migrations/0001_initial.py\n"
     ]
    },
    {
     "name": "stdout",
     "output_type": "stream",
     "text": [
      "    - Create model Author\n"
     ]
    },
    {
     "name": "stdout",
     "output_type": "stream",
     "text": [
      "    - Create model HistoricalBook\n"
     ]
    },
    {
     "name": "stdout",
     "output_type": "stream",
     "text": [
      "    - Create model HistoricalAuthor\n"
     ]
    },
    {
     "name": "stdout",
     "output_type": "stream",
     "text": [
      "    - Create model Book\n"
     ]
    },
    {
     "name": "stdout",
     "output_type": "stream",
     "text": [
      "Operations to perform:\n"
     ]
    },
    {
     "name": "stdout",
     "output_type": "stream",
     "text": [
      "  Apply all migrations: admin, auth, bookstore, contenttypes, sessions\n"
     ]
    },
    {
     "name": "stdout",
     "output_type": "stream",
     "text": [
      "Running migrations:\n"
     ]
    },
    {
     "name": "stdout",
     "output_type": "stream",
     "text": [
      "  Applying bookstore.0001_initial... OK\n"
     ]
    },
    {
     "name": "stdout",
     "output_type": "stream",
     "text": [
      "Saving historical records for <class 'bookstore.models.Book'>\n"
     ]
    },
    {
     "name": "stdout",
     "output_type": "stream",
     "text": [
      "Starting bulk creating history models for <class 'bookstore.models.Book'> instances 0-200\n"
     ]
    },
    {
     "name": "stdout",
     "output_type": "stream",
     "text": [
      "Finished saving historical records for <class 'bookstore.models.Book'>\n"
     ]
    },
    {
     "name": "stdout",
     "output_type": "stream",
     "text": [
      "Saving historical records for <class 'bookstore.models.Author'>\n"
     ]
    },
    {
     "name": "stdout",
     "output_type": "stream",
     "text": [
      "Starting bulk creating history models for <class 'bookstore.models.Author'> instances 0-200\n"
     ]
    },
    {
     "name": "stdout",
     "output_type": "stream",
     "text": [
      "Finished saving historical records for <class 'bookstore.models.Author'>\n"
     ]
    },
    {
     "name": "stdout",
     "output_type": "stream",
     "text": [
      "System check identified no issues (0 silenced).\n"
     ]
    }
   ],
   "source": [
    "%%bash\n",
    "\n",
    "cd /bookstore\n",
    "python manage.py makemigrations bookstore\n",
    "python manage.py migrate\n",
    "python manage.py populate_history --auto\n",
    "python manage.py check"
   ]
  },
  {
   "cell_type": "markdown",
   "metadata": {},
   "source": [
    "## Update Admin"
   ]
  },
  {
   "cell_type": "code",
   "execution_count": 12,
   "metadata": {
    "execution": {
     "iopub.execute_input": "2022-08-10T09:47:28.675550Z",
     "iopub.status.busy": "2022-08-10T09:47:28.675193Z",
     "iopub.status.idle": "2022-08-10T09:47:28.683594Z",
     "shell.execute_reply": "2022-08-10T09:47:28.682233Z"
    }
   },
   "outputs": [
    {
     "name": "stdout",
     "output_type": "stream",
     "text": [
      "from django.contrib import admin\n",
      "from simple_history.admin import SimpleHistoryAdmin\n",
      "from .models import *\n",
      "\n",
      "\n",
      "admin.site.register(Author, SimpleHistoryAdmin)\n",
      "admin.site.register(Book, SimpleHistoryAdmin)\n"
     ]
    }
   ],
   "source": [
    "file = '/bookstore/bookstore/admin.py'  \n",
    "    \n",
    "with open(file, 'w') as admin_file:\n",
    "    template = Template(open('/templates/admin.j2', 'r').read())\n",
    "    print(template.render())\n",
    "    admin_file.write(template.render())"
   ]
  },
  {
   "cell_type": "code",
   "execution_count": 13,
   "metadata": {
    "execution": {
     "iopub.execute_input": "2022-08-10T09:47:28.690074Z",
     "iopub.status.busy": "2022-08-10T09:47:28.689341Z",
     "iopub.status.idle": "2022-08-10T09:47:29.580752Z",
     "shell.execute_reply": "2022-08-10T09:47:29.579559Z"
    }
   },
   "outputs": [
    {
     "name": "stdout",
     "output_type": "stream",
     "text": [
      "Superuser creation skipped due to not running in a TTY. You can run `manage.py createsuperuser` in your project to create one manually.\n"
     ]
    }
   ],
   "source": [
    "%%bash\n",
    "\n",
    "cd /bookstore\n",
    "python manage.py createsuperuser"
   ]
  },
  {
   "cell_type": "code",
   "execution_count": 14,
   "metadata": {
    "execution": {
     "iopub.execute_input": "2022-08-10T09:47:29.586191Z",
     "iopub.status.busy": "2022-08-10T09:47:29.585264Z",
     "iopub.status.idle": "2022-08-10T09:47:30.626146Z",
     "shell.execute_reply": "2022-08-10T09:47:30.625322Z"
    }
   },
   "outputs": [],
   "source": [
    "from django.contrib.auth.models import User\n",
    "for name in ['Alice Appleseed', 'Bob Bananarama', 'Carlos Carrot']:\n",
    "    user = User.objects.create_user(username=f\"{name.replace(' ', '.').lower()}\",\n",
    "                                    email=f\"{name.replace(' ', '.').lower()}@example.com\",\n",
    "                                    password='secret123')\n",
    "    user.first_name = name.split(' ')[0]\n",
    "    user.last_name = name.split(' ')[1]\n",
    "    user.is_staff = True\n",
    "    user.is_superuser = True\n",
    "    user.save()"
   ]
  },
  {
   "cell_type": "code",
   "execution_count": 15,
   "metadata": {
    "execution": {
     "iopub.execute_input": "2022-08-10T09:47:30.632024Z",
     "iopub.status.busy": "2022-08-10T09:47:30.631565Z",
     "iopub.status.idle": "2022-08-10T09:47:30.647612Z",
     "shell.execute_reply": "2022-08-10T09:47:30.643127Z"
    }
   },
   "outputs": [
    {
     "data": {
      "text/plain": [
       "<QuerySet [<User: alice.appleseed>, <User: bob.bananarama>, <User: carlos.carrot>]>"
      ]
     },
     "execution_count": 15,
     "metadata": {},
     "output_type": "execute_result"
    }
   ],
   "source": [
    "User.objects.all()"
   ]
  },
  {
   "cell_type": "markdown",
   "metadata": {},
   "source": [
    "## Challenge #1\n",
    "### Explain how to login and manually create a book entry through the admin page"
   ]
  }
 ],
 "metadata": {
  "kernelspec": {
   "display_name": "Python 3 (ipykernel)",
   "language": "python",
   "name": "python3"
  },
  "language_info": {
   "codemirror_mode": {
    "name": "ipython",
    "version": 3
   },
   "file_extension": ".py",
   "mimetype": "text/x-python",
   "name": "python",
   "nbconvert_exporter": "python",
   "pygments_lexer": "ipython3",
   "version": "3.10.6"
  }
 },
 "nbformat": 4,
 "nbformat_minor": 4
}
