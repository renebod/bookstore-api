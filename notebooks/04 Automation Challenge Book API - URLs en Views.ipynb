{
 "cells": [
  {
   "cell_type": "markdown",
   "metadata": {},
   "source": [
    "## Python imports"
   ]
  },
  {
   "cell_type": "code",
   "execution_count": null,
   "metadata": {
    "scrolled": true
   },
   "outputs": [],
   "source": [
    "import requests\n",
    "import json\n",
    "from bs4 import BeautifulSoup\n",
    "from jinja2 import Template\n",
    "import os\n",
    "import sys"
   ]
  },
  {
   "cell_type": "markdown",
   "metadata": {},
   "source": [
    "### _Load Django into Jupyter_"
   ]
  },
  {
   "cell_type": "code",
   "execution_count": null,
   "metadata": {},
   "outputs": [],
   "source": [
    "sys.path.append('/bookstore')\n",
    "sys.path.append('/bookstore/project')\n",
    "os.environ['DJANGO_SETTINGS_MODULE'] = 'project.settings'\n",
    "os.environ['DJANGO_ALLOW_ASYNC_UNSAFE'] = 'true'\n",
    "import django\n",
    "django.setup()"
   ]
  },
  {
   "cell_type": "markdown",
   "metadata": {},
   "source": [
    "### _Obtain App and DB models_"
   ]
  },
  {
   "cell_type": "code",
   "execution_count": null,
   "metadata": {},
   "outputs": [],
   "source": [
    "from django.apps import apps\n",
    "app_models = [v for k,v in apps.all_models['bookstore_api'].items()]\n",
    "\n",
    "dbdesign = [{'model': model._meta.object_name, \\\n",
    "             'fields': [field.name for field in \\\n",
    "                        model._meta.get_fields()]} \\\n",
    "            for model in app_models]"
   ]
  },
  {
   "cell_type": "markdown",
   "metadata": {},
   "source": [
    "## Adding Views"
   ]
  },
  {
   "cell_type": "code",
   "execution_count": null,
   "metadata": {},
   "outputs": [],
   "source": [
    "from django.apps import apps\n",
    "file = '/bookstore/bookstore_api/views.py'  \n",
    "    \n",
    "with open(file, 'w') as file:\n",
    "    template = Template(open('/templates/views.j2', 'r').read())\n",
    "    print(template.render(dbdesign=[app['model'] for app in dbdesign]))\n",
    "    file.write(template.render(dbdesign=[app['model'] for app in dbdesign]))"
   ]
  },
  {
   "cell_type": "markdown",
   "metadata": {},
   "source": [
    "## Adding URLs"
   ]
  },
  {
   "cell_type": "code",
   "execution_count": null,
   "metadata": {},
   "outputs": [],
   "source": [
    "from django.apps import apps\n",
    "file = '/bookstore/bookstore_api/urls.py' \n",
    "    \n",
    "with open(file, 'w') as file:\n",
    "    template = Template(open('/templates/urls_app.j2', 'r').read())\n",
    "    print(template.render(dbdesign=[app['model'] for app in dbdesign]))\n",
    "    file.write(template.render(dbdesign=[app['model'] for app in dbdesign]))"
   ]
  },
  {
   "cell_type": "code",
   "execution_count": null,
   "metadata": {},
   "outputs": [],
   "source": [
    "from django.apps import apps\n",
    "file = '/bookstore/project/urls.py'   \n",
    "appname = [app for app in apps.app_configs][-1]\n",
    "\n",
    "with open(file, 'w') as file:\n",
    "    template = Template(open('/templates/urls.j2', 'r').read())\n",
    "    print(template.render(app_name=appname))\n",
    "    file.write(template.render(app_name=appname))"
   ]
  },
  {
   "cell_type": "markdown",
   "metadata": {},
   "source": [
    "### _let's check . . ._"
   ]
  },
  {
   "cell_type": "code",
   "execution_count": null,
   "metadata": {},
   "outputs": [],
   "source": [
    "url = 'http://bookstore:8000'\n",
    "\n",
    "def page_title(url):\n",
    "    page = requests.get(url)\n",
    "    soup = BeautifulSoup(page.content, 'html.parser')\n",
    "    return soup\n",
    "\n",
    "page_title(url)"
   ]
  },
  {
   "cell_type": "markdown",
   "metadata": {},
   "source": [
    "![title](images/drf.png)"
   ]
  },
  {
   "cell_type": "markdown",
   "metadata": {},
   "source": [
    "## JSON browsing"
   ]
  },
  {
   "cell_type": "code",
   "execution_count": null,
   "metadata": {},
   "outputs": [],
   "source": [
    "url = 'http://bookstore:8000'\n",
    "headers = {'Content-type': 'application/json'}\n",
    "requests.get(url, headers=headers).json()"
   ]
  },
  {
   "cell_type": "code",
   "execution_count": null,
   "metadata": {},
   "outputs": [],
   "source": [
    "for model in [app['model'] for app in dbdesign]:\n",
    "    response = requests.get(url + \"/%s\" % model.lower(), headers=headers).json()\n",
    "    print(\"A total of %s %s API Objects\\n\" % (len(response),model))\n",
    "    print(json.dumps(response[-2:], indent=4, sort_keys=True))"
   ]
  }
 ],
 "metadata": {
  "kernelspec": {
   "display_name": "Python 3",
   "language": "python",
   "name": "python3"
  },
  "language_info": {
   "codemirror_mode": {
    "name": "ipython",
    "version": 3
   },
   "file_extension": ".py",
   "mimetype": "text/x-python",
   "name": "python",
   "nbconvert_exporter": "python",
   "pygments_lexer": "ipython3",
   "version": "3.8.6"
  }
 },
 "nbformat": 4,
 "nbformat_minor": 4
}
