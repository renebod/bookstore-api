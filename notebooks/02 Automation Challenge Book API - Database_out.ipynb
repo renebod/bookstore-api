{
 "cells": [
  {
   "cell_type": "markdown",
   "metadata": {},
   "source": [
    "## Python imports"
   ]
  },
  {
   "cell_type": "code",
   "execution_count": 1,
   "metadata": {
    "execution": {
     "iopub.execute_input": "2022-08-10T09:47:18.000101Z",
     "iopub.status.busy": "2022-08-10T09:47:17.999074Z",
     "iopub.status.idle": "2022-08-10T09:47:18.066150Z",
     "shell.execute_reply": "2022-08-10T09:47:18.064970Z"
    },
    "scrolled": true
   },
   "outputs": [],
   "source": [
    "import requests\n",
    "import json\n",
    "import os\n",
    "import sys\n",
    "import sqlite3"
   ]
  },
  {
   "cell_type": "markdown",
   "metadata": {},
   "source": [
    "### _Load Django into Jupyter_"
   ]
  },
  {
   "cell_type": "code",
   "execution_count": 2,
   "metadata": {
    "execution": {
     "iopub.execute_input": "2022-08-10T09:47:18.070645Z",
     "iopub.status.busy": "2022-08-10T09:47:18.070306Z",
     "iopub.status.idle": "2022-08-10T09:47:18.318406Z",
     "shell.execute_reply": "2022-08-10T09:47:18.317226Z"
    }
   },
   "outputs": [],
   "source": [
    "sys.path.append('/bookstore')\n",
    "sys.path.append('/bookstore/project')\n",
    "os.environ['DJANGO_SETTINGS_MODULE'] = 'project.settings'\n",
    "os.environ['DJANGO_ALLOW_ASYNC_UNSAFE'] = 'true'\n",
    "import django\n",
    "django.setup()\n",
    "\n",
    "from django.contrib.auth.models import User"
   ]
  },
  {
   "cell_type": "markdown",
   "metadata": {},
   "source": [
    "## Check content of SQLite"
   ]
  },
  {
   "cell_type": "code",
   "execution_count": 3,
   "metadata": {
    "execution": {
     "iopub.execute_input": "2022-08-10T09:47:18.324284Z",
     "iopub.status.busy": "2022-08-10T09:47:18.323110Z",
     "iopub.status.idle": "2022-08-10T09:47:18.339377Z",
     "shell.execute_reply": "2022-08-10T09:47:18.338343Z"
    }
   },
   "outputs": [
    {
     "name": "stdout",
     "output_type": "stream",
     "text": [
      "bookstore\n"
     ]
    },
    {
     "name": "stdout",
     "output_type": "stream",
     "text": [
      "db.sqlite3\n"
     ]
    },
    {
     "name": "stdout",
     "output_type": "stream",
     "text": [
      "manage.py\n"
     ]
    },
    {
     "name": "stdout",
     "output_type": "stream",
     "text": [
      "project\n"
     ]
    },
    {
     "name": "stdout",
     "output_type": "stream",
     "text": [
      "templates\n"
     ]
    }
   ],
   "source": [
    "%%bash\n",
    "\n",
    "ls /bookstore"
   ]
  },
  {
   "cell_type": "code",
   "execution_count": 4,
   "metadata": {
    "execution": {
     "iopub.execute_input": "2022-08-10T09:47:18.396899Z",
     "iopub.status.busy": "2022-08-10T09:47:18.395461Z",
     "iopub.status.idle": "2022-08-10T09:47:18.402810Z",
     "shell.execute_reply": "2022-08-10T09:47:18.401846Z"
    }
   },
   "outputs": [
    {
     "name": "stdout",
     "output_type": "stream",
     "text": [
      "SQLite version: 3.34.1\n",
      "\n"
     ]
    }
   ],
   "source": [
    "con = sqlite3.connect('/bookstore/db.sqlite3')\n",
    "cur = con.cursor()\n",
    "cur.execute('SELECT SQLITE_VERSION()')\n",
    "\n",
    "data = cur.fetchone()[0]\n",
    "print(f\"SQLite version: {data}\\n\")\n",
    "\n",
    "# cur.execute(\"SELECT name FROM sqlite_master WHERE type='table';\")\n",
    "# print(cur.fetchall())\n",
    "\n",
    "# cur.execute('SELECT * FROM bookstore_author')\n",
    "# for l in cur.fetchall():\n",
    "#     print(l)"
   ]
  },
  {
   "cell_type": "markdown",
   "metadata": {},
   "source": [
    "## Let's move to a real Database"
   ]
  },
  {
   "cell_type": "code",
   "execution_count": 5,
   "metadata": {
    "execution": {
     "iopub.execute_input": "2022-08-10T09:47:18.406962Z",
     "iopub.status.busy": "2022-08-10T09:47:18.406657Z",
     "iopub.status.idle": "2022-08-10T09:47:18.412609Z",
     "shell.execute_reply": "2022-08-10T09:47:18.411469Z"
    }
   },
   "outputs": [],
   "source": [
    "old_db = \"DATABASES = {\\n\\\n",
    "    'default': {\\n\\\n",
    "        'ENGINE': 'django.db.backends.sqlite3',\\n\\\n",
    "        'NAME': BASE_DIR / 'db.sqlite3',\\n\\\n",
    "    }\\n\\\n",
    "}\"\n",
    "\n",
    "new_db = \"# DATABASES = {\\n\\\n",
    "#     'default': {\\n\\\n",
    "#         'ENGINE': 'django.db.backends.sqlite3',\\n\\\n",
    "#         'NAME': BASE_DIR / 'db.sqlite3',\\n\\\n",
    "#     }\\n\\\n",
    "# }\\n\\\n",
    "\\n\\\n",
    "DATABASES = {\\n\\\n",
    "    'default': {\\n\\\n",
    "        'ENGINE': 'django.db.backends.postgresql',\\n\\\n",
    "        'NAME': 'postgres',\\n\\\n",
    "        'USER': 'postgres',\\n\\\n",
    "        'PASSWORD': 'secret123',\\n\\\n",
    "        'HOST': 'postgres',\\n\\\n",
    "        'PORT': 5432,\\n\\\n",
    "    }\\n\\\n",
    "}\""
   ]
  },
  {
   "cell_type": "code",
   "execution_count": 6,
   "metadata": {
    "execution": {
     "iopub.execute_input": "2022-08-10T09:47:18.417626Z",
     "iopub.status.busy": "2022-08-10T09:47:18.416678Z",
     "iopub.status.idle": "2022-08-10T09:47:18.425060Z",
     "shell.execute_reply": "2022-08-10T09:47:18.424001Z"
    }
   },
   "outputs": [],
   "source": [
    "file = '/bookstore/project/settings.py'\n",
    "    \n",
    "with open(file, 'r') as settings_file:\n",
    "    data = settings_file.read()\n",
    "    data = data.replace(old_db, new_db)\n",
    "with open(file, 'w') as settings_file:\n",
    "    write_file = settings_file.write(data)"
   ]
  },
  {
   "cell_type": "code",
   "execution_count": 7,
   "metadata": {
    "execution": {
     "iopub.execute_input": "2022-08-10T09:47:18.431121Z",
     "iopub.status.busy": "2022-08-10T09:47:18.430732Z",
     "iopub.status.idle": "2022-08-10T09:47:18.438312Z",
     "shell.execute_reply": "2022-08-10T09:47:18.437247Z"
    }
   },
   "outputs": [
    {
     "name": "stdout",
     "output_type": "stream",
     "text": [
      "# Database\n",
      "# https://docs.djangoproject.com/en/4.1/ref/settings/#databases\n",
      "\n",
      "# DATABASES = {\n",
      "#     'default': {\n",
      "#         'ENGINE': 'django.db.backends.sqlite3',\n",
      "#         'NAME': BASE_DIR / 'db.sqlite3',\n",
      "#     }\n",
      "# }\n",
      "\n",
      "DATABASES = {\n",
      "    'default': {\n",
      "        'ENGINE': 'django.db.backends.postgresql',\n",
      "        'NAME': 'postgres',\n",
      "        'USER': 'postgres',\n",
      "        'PASSWORD': 'secret123',\n",
      "        'HOST': 'postgres',\n",
      "        'PORT': 5432,\n",
      "    }\n",
      "}\n"
     ]
    }
   ],
   "source": [
    "with open(file) as fp:\n",
    "    for l in [line for i, line in enumerate(fp) if i >= 73 and i <= 92]:\n",
    "        print(l.strip('\\n'))"
   ]
  },
  {
   "cell_type": "code",
   "execution_count": 8,
   "metadata": {
    "execution": {
     "iopub.execute_input": "2022-08-10T09:47:18.443863Z",
     "iopub.status.busy": "2022-08-10T09:47:18.442634Z",
     "iopub.status.idle": "2022-08-10T09:47:19.442158Z",
     "shell.execute_reply": "2022-08-10T09:47:19.431593Z"
    }
   },
   "outputs": [
    {
     "name": "stdout",
     "output_type": "stream",
     "text": [
      "Operations to perform:\n"
     ]
    },
    {
     "name": "stdout",
     "output_type": "stream",
     "text": [
      "  Apply all migrations: admin, auth, contenttypes, sessions\n"
     ]
    },
    {
     "name": "stdout",
     "output_type": "stream",
     "text": [
      "Running migrations:\n"
     ]
    },
    {
     "name": "stdout",
     "output_type": "stream",
     "text": [
      "  Applying contenttypes.0001_initial... OK\n"
     ]
    },
    {
     "name": "stdout",
     "output_type": "stream",
     "text": [
      "  Applying auth.0001_initial... OK\n"
     ]
    },
    {
     "name": "stdout",
     "output_type": "stream",
     "text": [
      "  Applying admin.0001_initial... OK\n"
     ]
    },
    {
     "name": "stdout",
     "output_type": "stream",
     "text": [
      "  Applying admin.0002_logentry_remove_auto_add... OK\n"
     ]
    },
    {
     "name": "stdout",
     "output_type": "stream",
     "text": [
      "  Applying admin.0003_logentry_add_action_flag_choices... OK\n"
     ]
    },
    {
     "name": "stdout",
     "output_type": "stream",
     "text": [
      "  Applying contenttypes.0002_remove_content_type_name... OK\n"
     ]
    },
    {
     "name": "stdout",
     "output_type": "stream",
     "text": [
      "  Applying auth.0002_alter_permission_name_max_length... OK\n"
     ]
    },
    {
     "name": "stdout",
     "output_type": "stream",
     "text": [
      "  Applying auth.0003_alter_user_email_max_length... OK\n"
     ]
    },
    {
     "name": "stdout",
     "output_type": "stream",
     "text": [
      "  Applying auth.0004_alter_user_username_opts... OK\n"
     ]
    },
    {
     "name": "stdout",
     "output_type": "stream",
     "text": [
      "  Applying auth.0005_alter_user_last_login_null... OK\n"
     ]
    },
    {
     "name": "stdout",
     "output_type": "stream",
     "text": [
      "  Applying auth.0006_require_contenttypes_0002... OK\n"
     ]
    },
    {
     "name": "stdout",
     "output_type": "stream",
     "text": [
      "  Applying auth.0007_alter_validators_add_error_messages... OK\n"
     ]
    },
    {
     "name": "stdout",
     "output_type": "stream",
     "text": [
      "  Applying auth.0008_alter_user_username_max_length... OK\n"
     ]
    },
    {
     "name": "stdout",
     "output_type": "stream",
     "text": [
      "  Applying auth.0009_alter_user_last_name_max_length... OK\n"
     ]
    },
    {
     "name": "stdout",
     "output_type": "stream",
     "text": [
      "  Applying auth.0010_alter_group_name_max_length... OK\n"
     ]
    },
    {
     "name": "stdout",
     "output_type": "stream",
     "text": [
      "  Applying auth.0011_update_proxy_permissions... OK\n"
     ]
    },
    {
     "name": "stdout",
     "output_type": "stream",
     "text": [
      "  Applying auth.0012_alter_user_first_name_max_length... OK\n"
     ]
    },
    {
     "name": "stdout",
     "output_type": "stream",
     "text": [
      "  Applying sessions.0001_initial... OK\n"
     ]
    }
   ],
   "source": [
    "%%bash\n",
    "\n",
    "cd /bookstore\n",
    "python manage.py migrate"
   ]
  }
 ],
 "metadata": {
  "kernelspec": {
   "display_name": "Python 3 (ipykernel)",
   "language": "python",
   "name": "python3"
  },
  "language_info": {
   "codemirror_mode": {
    "name": "ipython",
    "version": 3
   },
   "file_extension": ".py",
   "mimetype": "text/x-python",
   "name": "python",
   "nbconvert_exporter": "python",
   "pygments_lexer": "ipython3",
   "version": "3.10.6"
  }
 },
 "nbformat": 4,
 "nbformat_minor": 4
}
