{
 "cells": [
  {
   "cell_type": "markdown",
   "metadata": {},
   "source": [
    "# Environment check"
   ]
  },
  {
   "cell_type": "code",
   "execution_count": null,
   "metadata": {
    "scrolled": true
   },
   "outputs": [],
   "source": [
    "import requests\n",
    "import json\n",
    "from bs4 import BeautifulSoup\n",
    "from jinja2 import Template\n",
    "import os\n",
    "import sys\n",
    "from shutil import copyfile\n",
    "from datetime import datetime\n",
    "import time"
   ]
  },
  {
   "cell_type": "markdown",
   "metadata": {},
   "source": [
    "### _Load Django into Jupyter_"
   ]
  },
  {
   "cell_type": "code",
   "execution_count": null,
   "metadata": {},
   "outputs": [],
   "source": [
    "sys.path.append('/bookstore')\n",
    "sys.path.append('/bookstore/project')\n",
    "os.environ['DJANGO_SETTINGS_MODULE'] = 'project.settings'\n",
    "os.environ['DJANGO_ALLOW_ASYNC_UNSAFE'] = 'true'\n",
    "import django\n",
    "django.setup()"
   ]
  },
  {
   "cell_type": "markdown",
   "metadata": {},
   "source": [
    "## Adding LogLevels Objects"
   ]
  },
  {
   "cell_type": "code",
   "execution_count": null,
   "metadata": {},
   "outputs": [],
   "source": [
    "with open(\"/templates/dbfill_bookstore.py\", \"r+\") as file:\n",
    "    data = file.read()\n",
    "    if not os.path.exists(\"/bookstore/bookstore_api/scripts\"):\n",
    "        os.makedirs(\"/bookstore/bookstore_api/scripts\")\n",
    "    with open(\"/bookstore/bookstore_api/scripts/dbfill_bookstore.py\", \"w\") as file:\n",
    "        write_file = file.write(data)\n",
    "\n",
    "print(open(\"/bookstore/bookstore_api/scripts/dbfill_bookstore.py\").read())"
   ]
  },
  {
   "cell_type": "code",
   "execution_count": null,
   "metadata": {},
   "outputs": [],
   "source": [
    "%%bash\n",
    "\n",
    "cd /bookstore\n",
    "python manage.py runscript dbfill_bookstore"
   ]
  },
  {
   "cell_type": "markdown",
   "metadata": {},
   "source": [
    "### _let's check . . ._"
   ]
  },
  {
   "cell_type": "code",
   "execution_count": null,
   "metadata": {},
   "outputs": [],
   "source": [
    "from bookstore_api.models import *\n",
    "\n",
    "for b in Book.objects.all():\n",
    "    print(\"%s, written by %s\" % (b,b.author))"
   ]
  },
  {
   "cell_type": "markdown",
   "metadata": {},
   "source": [
    "## Configuring Serialization"
   ]
  },
  {
   "cell_type": "code",
   "execution_count": null,
   "metadata": {},
   "outputs": [],
   "source": [
    "file = '/bookstore/bookstore_api/serializers.py'\n",
    "    \n",
    "with open(file, 'w') as file:\n",
    "    template = Template(open('/templates/serializers.j2', 'r').read())\n",
    "    print(template.render())\n",
    "    file.write(template.render())"
   ]
  },
  {
   "cell_type": "markdown",
   "metadata": {},
   "source": [
    "## Challenge #3\n",
    "### Explain how serialization helps with data collection"
   ]
  },
  {
   "cell_type": "code",
   "execution_count": null,
   "metadata": {},
   "outputs": [],
   "source": [
    "from bookstore_api.serializers import BookSerializer\n",
    "book = Book.objects.last()\n",
    "serialized = BookSerializer(book)\n",
    "\n",
    "serialized"
   ]
  }
 ],
 "metadata": {
  "kernelspec": {
   "display_name": "Python 3",
   "language": "python",
   "name": "python3"
  },
  "language_info": {
   "codemirror_mode": {
    "name": "ipython",
    "version": 3
   },
   "file_extension": ".py",
   "mimetype": "text/x-python",
   "name": "python",
   "nbconvert_exporter": "python",
   "pygments_lexer": "ipython3",
   "version": "3.8.6"
  }
 },
 "nbformat": 4,
 "nbformat_minor": 4
}
