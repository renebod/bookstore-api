{
 "cells": [
  {
   "cell_type": "markdown",
   "metadata": {},
   "source": [
    "## Python imports"
   ]
  },
  {
   "cell_type": "code",
   "execution_count": 1,
   "metadata": {
    "scrolled": true
   },
   "outputs": [],
   "source": [
    "import requests\n",
    "import json\n",
    "import os\n",
    "import sys"
   ]
  },
  {
   "cell_type": "markdown",
   "metadata": {},
   "source": [
    "### _Load Django into Jupyter_"
   ]
  },
  {
   "cell_type": "code",
   "execution_count": 2,
   "metadata": {},
   "outputs": [],
   "source": [
    "sys.path.append('/bookstore')\n",
    "sys.path.append('/bookstore/project')\n",
    "os.environ['DJANGO_SETTINGS_MODULE'] = 'project.settings'\n",
    "os.environ['DJANGO_ALLOW_ASYNC_UNSAFE'] = 'true'\n",
    "import django\n",
    "django.setup()"
   ]
  },
  {
   "cell_type": "markdown",
   "metadata": {},
   "source": [
    "## Pagination"
   ]
  },
  {
   "cell_type": "code",
   "execution_count": 3,
   "metadata": {},
   "outputs": [],
   "source": [
    "pagination = \"SessionAuthentication'\\n\\\n",
    "    ],\\n\\\n",
    "}\\n\\n\\n\"\n",
    "\n",
    "\n",
    "pagination_new = \"SessionAuthentication'\\n\\\n",
    "    ],\\n\\\n",
    "    'DEFAULT_PAGINATION_CLASS': 'rest_framework.pagination.PageNumberPagination',\\n\\\n",
    "    'PAGE_SIZE': 5\\n\\\n",
    "}\\n\\n\\n\"\n",
    "\n",
    "file = '/bookstore/project/settings.py'\n",
    "    \n",
    "with open(file, 'r') as settings_file:\n",
    "    data = settings_file.read()\n",
    "    data = data.replace(pagination, pagination_new)\n",
    "with open(file, 'w') as settings_file:\n",
    "    write_file = settings_file.write(data)"
   ]
  },
  {
   "cell_type": "markdown",
   "metadata": {},
   "source": [
    "### _let's check . . ._"
   ]
  },
  {
   "cell_type": "code",
   "execution_count": 4,
   "metadata": {},
   "outputs": [],
   "source": [
    "def get_token(url, username, password):\n",
    "    payload = {'username': username, 'password': password}\n",
    "    headers = {'Content-type': 'application/json'}\n",
    "    return requests.post(f'{url}/token/', json=payload, headers=headers).json()['access']"
   ]
  },
  {
   "cell_type": "code",
   "execution_count": 5,
   "metadata": {},
   "outputs": [
    {
     "data": {
      "text/plain": [
       "[{'url': 'http://bookstore:8000/api/book/01bd73a5-e89b-40c8-8077-305697d634f2/',\n",
       "  'title': 'Lord of the Flies'},\n",
       " {'url': 'http://bookstore:8000/api/book/42007de4-37b7-495d-97fb-1d163913fd1c/',\n",
       "  'title': 'Wuthering Heights'},\n",
       " {'url': 'http://bookstore:8000/api/book/5b3d21b4-46dc-47d2-a5e7-7d4246da4fb3/',\n",
       "  'title': 'The Great Gatsby'},\n",
       " {'url': 'http://bookstore:8000/api/book/5f769386-ebd5-4b3a-8520-22746f5dfaa5/',\n",
       "  'title': 'Pride and Prejudice'},\n",
       " {'url': 'http://bookstore:8000/api/book/74df9bb7-95a6-4c5b-9d58-00679a7d8c48/',\n",
       "  'title': 'The Catcher in the Rye'},\n",
       " {'url': 'http://bookstore:8000/api/book/96ad54c4-b5f8-43b5-9908-5c3bdd0645d0/',\n",
       "  'title': 'Jane Eyre'},\n",
       " {'url': 'http://bookstore:8000/api/book/99ef0047-8771-4884-a1fa-f891c9481d80/',\n",
       "  'title': '1984'},\n",
       " {'url': 'http://bookstore:8000/api/book/a1e491c4-9334-4f4d-82cf-ba32a13e084f/',\n",
       "  'title': 'Persuasion'},\n",
       " {'url': 'http://bookstore:8000/api/book/a89ad972-aaae-4af3-831f-58dfe9a5bc97/',\n",
       "  'title': 'To Kill a Mockingbird'},\n",
       " {'url': 'http://bookstore:8000/api/book/ea52ac26-91ba-4475-bab3-96843ee6a2fa/',\n",
       "  'title': 'Fahrenheit 451 - Second Edition'}]"
      ]
     },
     "execution_count": 5,
     "metadata": {},
     "output_type": "execute_result"
    }
   ],
   "source": [
    "url = 'http://bookstore:8000/api'\n",
    "token = get_token(url, 'carlos.carrot', 'secret123')\n",
    "headers = {'Content-type': 'application/json', 'Authorization': f'Bearer {token}'}\n",
    "requests.get(f'{url}/book', headers=headers).json()"
   ]
  },
  {
   "cell_type": "markdown",
   "metadata": {},
   "source": [
    "## Challenge #4\n",
    "### Obtaining all API Book objects\n",
    "Obtain all objects with pagination"
   ]
  }
 ],
 "metadata": {
  "kernelspec": {
   "display_name": "Python 3 (ipykernel)",
   "language": "python",
   "name": "python3"
  },
  "language_info": {
   "codemirror_mode": {
    "name": "ipython",
    "version": 3
   },
   "file_extension": ".py",
   "mimetype": "text/x-python",
   "name": "python",
   "nbconvert_exporter": "python",
   "pygments_lexer": "ipython3",
   "version": "3.10.6"
  }
 },
 "nbformat": 4,
 "nbformat_minor": 4
}
