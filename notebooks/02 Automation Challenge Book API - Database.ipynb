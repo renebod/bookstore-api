{
 "cells": [
  {
   "cell_type": "markdown",
   "metadata": {},
   "source": [
    "## Python imports"
   ]
  },
  {
   "cell_type": "code",
   "execution_count": null,
   "metadata": {
    "scrolled": true
   },
   "outputs": [],
   "source": [
    "import requests\n",
    "import json\n",
    "import os\n",
    "import sys\n",
    "import sqlite3"
   ]
  },
  {
   "cell_type": "markdown",
   "metadata": {},
   "source": [
    "### _Load Django into Jupyter_"
   ]
  },
  {
   "cell_type": "code",
   "execution_count": null,
   "metadata": {},
   "outputs": [],
   "source": [
    "sys.path.append('/bookstore')\n",
    "sys.path.append('/bookstore/project')\n",
    "os.environ['DJANGO_SETTINGS_MODULE'] = 'project.settings'\n",
    "os.environ['DJANGO_ALLOW_ASYNC_UNSAFE'] = 'true'\n",
    "import django\n",
    "django.setup()\n",
    "\n",
    "from django.contrib.auth.models import User"
   ]
  },
  {
   "cell_type": "markdown",
   "metadata": {},
   "source": [
    "## Check content of SQLite"
   ]
  },
  {
   "cell_type": "code",
   "execution_count": null,
   "metadata": {},
   "outputs": [],
   "source": [
    "%%bash\n",
    "\n",
    "ls /bookstore"
   ]
  },
  {
   "cell_type": "code",
   "execution_count": null,
   "metadata": {},
   "outputs": [],
   "source": [
    "con = sqlite3.connect('/bookstore/db.sqlite3')\n",
    "cur = con.cursor()\n",
    "cur.execute('SELECT SQLITE_VERSION()')\n",
    "\n",
    "data = cur.fetchone()[0]\n",
    "print(f\"SQLite version: {data}\\n\")\n",
    "\n",
    "# cur.execute(\"SELECT name FROM sqlite_master WHERE type='table';\")\n",
    "# print(cur.fetchall())\n",
    "\n",
    "# cur.execute('SELECT * FROM bookstore_author')\n",
    "# for l in cur.fetchall():\n",
    "#     print(l)"
   ]
  },
  {
   "cell_type": "markdown",
   "metadata": {},
   "source": [
    "## Let's move to a real Database"
   ]
  },
  {
   "cell_type": "code",
   "execution_count": null,
   "metadata": {},
   "outputs": [],
   "source": [
    "old_db = \"DATABASES = {\\n\\\n",
    "    'default': {\\n\\\n",
    "        'ENGINE': 'django.db.backends.sqlite3',\\n\\\n",
    "        'NAME': BASE_DIR / 'db.sqlite3',\\n\\\n",
    "    }\\n\\\n",
    "}\"\n",
    "\n",
    "new_db = \"# DATABASES = {\\n\\\n",
    "#     'default': {\\n\\\n",
    "#         'ENGINE': 'django.db.backends.sqlite3',\\n\\\n",
    "#         'NAME': BASE_DIR / 'db.sqlite3',\\n\\\n",
    "#     }\\n\\\n",
    "# }\\n\\\n",
    "\\n\\\n",
    "DATABASES = {\\n\\\n",
    "    'default': {\\n\\\n",
    "        'ENGINE': 'django.db.backends.postgresql',\\n\\\n",
    "        'NAME': 'postgres',\\n\\\n",
    "        'USER': 'postgres',\\n\\\n",
    "        'PASSWORD': 'secret123',\\n\\\n",
    "        'HOST': 'postgres',\\n\\\n",
    "        'PORT': 5432,\\n\\\n",
    "    }\\n\\\n",
    "}\""
   ]
  },
  {
   "cell_type": "code",
   "execution_count": null,
   "metadata": {},
   "outputs": [],
   "source": [
    "file = '/bookstore/project/settings.py'\n",
    "    \n",
    "with open(file, 'r') as settings_file:\n",
    "    data = settings_file.read()\n",
    "    data = data.replace(old_db, new_db)\n",
    "with open(file, 'w') as settings_file:\n",
    "    write_file = settings_file.write(data)"
   ]
  },
  {
   "cell_type": "code",
   "execution_count": null,
   "metadata": {},
   "outputs": [],
   "source": [
    "with open(file) as fp:\n",
    "    for l in [line for i, line in enumerate(fp) if i >= 73 and i <= 92]:\n",
    "        print(l.strip('\\n'))"
   ]
  },
  {
   "cell_type": "code",
   "execution_count": null,
   "metadata": {},
   "outputs": [],
   "source": [
    "%%bash\n",
    "\n",
    "cd /bookstore\n",
    "python manage.py migrate"
   ]
  }
 ],
 "metadata": {
  "kernelspec": {
   "display_name": "Python 3 (ipykernel)",
   "language": "python",
   "name": "python3"
  },
  "language_info": {
   "codemirror_mode": {
    "name": "ipython",
    "version": 3
   },
   "file_extension": ".py",
   "mimetype": "text/x-python",
   "name": "python",
   "nbconvert_exporter": "python",
   "pygments_lexer": "ipython3",
   "version": "3.10.4"
  }
 },
 "nbformat": 4,
 "nbformat_minor": 4
}
