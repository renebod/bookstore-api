{
 "cells": [
  {
   "cell_type": "markdown",
   "metadata": {},
   "source": [
    "## Python imports"
   ]
  },
  {
   "cell_type": "code",
   "execution_count": null,
   "metadata": {
    "scrolled": true
   },
   "outputs": [],
   "source": [
    "from jinja2 import Template\n",
    "import os\n",
    "import sys"
   ]
  },
  {
   "cell_type": "markdown",
   "metadata": {},
   "source": [
    "### _Load Django into Jupyter_"
   ]
  },
  {
   "cell_type": "code",
   "execution_count": null,
   "metadata": {},
   "outputs": [],
   "source": [
    "sys.path.append('/bookstore')\n",
    "sys.path.append('/bookstore/project')\n",
    "os.environ['DJANGO_SETTINGS_MODULE'] = 'project.settings'\n",
    "os.environ['DJANGO_ALLOW_ASYNC_UNSAFE'] = 'true'\n",
    "import django\n",
    "django.setup()"
   ]
  },
  {
   "cell_type": "markdown",
   "metadata": {},
   "source": [
    "## Adding LogLevels Objects"
   ]
  },
  {
   "cell_type": "code",
   "execution_count": null,
   "metadata": {},
   "outputs": [],
   "source": [
    "with open(\"/templates/dbfill_bookstore.py\", \"r+\") as file:\n",
    "    data = file.read()\n",
    "    if not os.path.exists(\"/bookstore/bookstore/scripts\"):\n",
    "        os.makedirs(\"/bookstore/bookstore/scripts\")\n",
    "    with open(\"/bookstore/bookstore/scripts/dbfill_bookstore.py\", \"w\") as file:\n",
    "        write_file = file.write(data)\n",
    "\n",
    "print(open(\"/bookstore/bookstore/scripts/dbfill_bookstore.py\").read())"
   ]
  },
  {
   "cell_type": "code",
   "execution_count": null,
   "metadata": {},
   "outputs": [],
   "source": [
    "%%bash\n",
    "\n",
    "cd /bookstore\n",
    "python manage.py runscript dbfill_bookstore"
   ]
  },
  {
   "cell_type": "markdown",
   "metadata": {},
   "source": [
    "### _let's check . . ._"
   ]
  },
  {
   "cell_type": "code",
   "execution_count": null,
   "metadata": {},
   "outputs": [],
   "source": [
    "from bookstore.models import *\n",
    "\n",
    "for b in Book.objects.all():\n",
    "    print(\"%s, written by %s\" % (b,b.author))"
   ]
  },
  {
   "cell_type": "markdown",
   "metadata": {},
   "source": [
    "## Configuring Serialization"
   ]
  },
  {
   "cell_type": "code",
   "execution_count": null,
   "metadata": {},
   "outputs": [],
   "source": [
    "file = '/bookstore/bookstore/serializers.py'\n",
    "    \n",
    "with open(file, 'w') as file:\n",
    "    template = Template(open('/templates/serializers.j2', 'r').read())\n",
    "    print(template.render())\n",
    "    file.write(template.render())"
   ]
  },
  {
   "cell_type": "markdown",
   "metadata": {},
   "source": [
    "## Challenge #3\n",
    "### Explain how serialization helps with data collection"
   ]
  },
  {
   "cell_type": "code",
   "execution_count": null,
   "metadata": {},
   "outputs": [],
   "source": [
    "book = Book.objects.last()\n",
    "book.title = f\"{book.title} - Second Edition\"\n",
    "book.changeReason = \"New edition\"\n",
    "book.changed_by_id = 2\n",
    "book.__dict__\n",
    "book.save()"
   ]
  },
  {
   "cell_type": "code",
   "execution_count": null,
   "metadata": {},
   "outputs": [],
   "source": [
    "from rest_framework import serializers\n",
    "from rest_framework.reverse import reverse\n",
    "from django.contrib.auth.models import User\n",
    "from bookstore.models import *\n",
    "import json\n",
    "\n",
    "\n",
    "# class HistoricalRecordField(serializers.ListField):\n",
    "#     child = serializers.DictField()\n",
    "\n",
    "#     def to_representation(self, data):\n",
    "#         return super().to_representation(data.values())\n",
    "\n",
    "    \n",
    "class BookSpecialDetailSerializer(serializers.ModelSerializer):\n",
    "    author = serializers.SerializerMethodField()\n",
    "    changed_by = serializers.SerializerMethodField()\n",
    "    history = serializers.SerializerMethodField()\n",
    "\n",
    "    class Meta:\n",
    "        model = Book\n",
    "        fields = ('id', 'title', 'author', 'changed_by', 'history')\n",
    "#         fields = '__all__'\n",
    "        read_only_fields = ['id']\n",
    "        depth = 1\n",
    "\n",
    "    def get_author(self, obj):\n",
    "        obj.author.changed_by_username = obj.author.changed_by.username\n",
    "        return obj.author.__dict__\n",
    "    \n",
    "    def get_changed_by(self, obj):\n",
    "        return obj.changed_by.username\n",
    "\n",
    "    def get_history(self, obj):\n",
    "        history = []\n",
    "        for h in obj.history.all():\n",
    "            h.changed_by_username = h.changed_by.username\n",
    "            history.append(h.__dict__)\n",
    "        return history\n",
    "\n",
    "\n",
    "print(f\"Looking at {book.title}, written by {book.author}\\n\\n\")\n",
    "\n",
    "serialized_book = BookSpecialDetailSerializer(book).data\n",
    "print(json.dumps(serialized_book, indent=4, sort_keys=True, default=str))"
   ]
  }
 ],
 "metadata": {
  "kernelspec": {
   "display_name": "Python 3 (ipykernel)",
   "language": "python",
   "name": "python3"
  },
  "language_info": {
   "codemirror_mode": {
    "name": "ipython",
    "version": 3
   },
   "file_extension": ".py",
   "mimetype": "text/x-python",
   "name": "python",
   "nbconvert_exporter": "python",
   "pygments_lexer": "ipython3",
   "version": "3.10.6"
  }
 },
 "nbformat": 4,
 "nbformat_minor": 4
}
