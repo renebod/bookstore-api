{
 "cells": [
  {
   "cell_type": "markdown",
   "metadata": {},
   "source": [
    "## Python imports"
   ]
  },
  {
   "cell_type": "code",
   "execution_count": null,
   "metadata": {
    "scrolled": true
   },
   "outputs": [],
   "source": [
    "from jinja2 import Template\n",
    "import os\n",
    "import sys"
   ]
  },
  {
   "cell_type": "markdown",
   "metadata": {},
   "source": [
    "### _Load Django into Jupyter_"
   ]
  },
  {
   "cell_type": "code",
   "execution_count": null,
   "metadata": {},
   "outputs": [],
   "source": [
    "sys.path.append('/bookstore')\n",
    "sys.path.append('/bookstore/project')\n",
    "os.environ['DJANGO_SETTINGS_MODULE'] = 'project.settings'\n",
    "os.environ['DJANGO_ALLOW_ASYNC_UNSAFE'] = 'true'\n",
    "import django\n",
    "django.setup()"
   ]
  },
  {
   "cell_type": "markdown",
   "metadata": {},
   "source": [
    "## Adding LogLevels Objects"
   ]
  },
  {
   "cell_type": "code",
   "execution_count": null,
   "metadata": {},
   "outputs": [],
   "source": [
    "with open(\"/templates/dbfill_bookstore.py\", \"r+\") as file:\n",
    "    data = file.read()\n",
    "    if not os.path.exists(\"/bookstore/bookstore/scripts\"):\n",
    "        os.makedirs(\"/bookstore/bookstore/scripts\")\n",
    "    with open(\"/bookstore/bookstore/scripts/dbfill_bookstore.py\", \"w\") as file:\n",
    "        write_file = file.write(data)\n",
    "\n",
    "print(open(\"/bookstore/bookstore/scripts/dbfill_bookstore.py\").read())"
   ]
  },
  {
   "cell_type": "code",
   "execution_count": null,
   "metadata": {},
   "outputs": [],
   "source": [
    "%%bash\n",
    "\n",
    "cd /bookstore\n",
    "python manage.py runscript dbfill_bookstore"
   ]
  },
  {
   "cell_type": "markdown",
   "metadata": {},
   "source": [
    "### _let's check . . ._"
   ]
  },
  {
   "cell_type": "code",
   "execution_count": null,
   "metadata": {},
   "outputs": [],
   "source": [
    "from bookstore.models import *\n",
    "\n",
    "for b in Book.objects.all():\n",
    "    print(\"%s, written by %s\" % (b,b.author))"
   ]
  },
  {
   "cell_type": "markdown",
   "metadata": {},
   "source": [
    "## Configuring Serialization"
   ]
  },
  {
   "cell_type": "code",
   "execution_count": null,
   "metadata": {},
   "outputs": [],
   "source": [
    "file = '/bookstore/bookstore/serializers.py'\n",
    "    \n",
    "with open(file, 'w') as file:\n",
    "    template = Template(open('/templates/serializers.j2', 'r').read())\n",
    "    print(template.render())\n",
    "    file.write(template.render())"
   ]
  },
  {
   "cell_type": "markdown",
   "metadata": {},
   "source": [
    "## Challenge #3\n",
    "### Explain how serialization helps with data collection"
   ]
  },
  {
   "cell_type": "code",
   "execution_count": null,
   "metadata": {},
   "outputs": [],
   "source": [
    "from bookstore.serializers import *\n",
    "\n",
    "author = Author.objects.last()\n",
    "author.__dict__\n",
    "# print(dir(author))\n",
    "# print(dir(author.changed_by))\n",
    "\n",
    "print(f\"Updated by {author.changed_by.first_name} {author.changed_by.last_name}\")\n",
    "\n",
    "AuthorDetailSerializer(author).data\n"
   ]
  },
  {
   "cell_type": "code",
   "execution_count": null,
   "metadata": {},
   "outputs": [],
   "source": [
    "book = Book.objects.last()\n",
    "book.title = f\"{book.title} - Second Edition\"\n",
    "book.changeReason = \"New edition\"\n",
    "book.changed_by_id = 2\n",
    "book.__dict__\n",
    "# book.save()"
   ]
  },
  {
   "cell_type": "code",
   "execution_count": null,
   "metadata": {},
   "outputs": [],
   "source": [
    "from django.core import serializers\n",
    "import json\n",
    "\n",
    "\n",
    "serialized_obj = json.loads(serializers.serialize('json', [book, ]))[0]\n",
    "serialized_obj['history'] = []\n",
    "for h in book.history.all():\n",
    "    sh = json.loads(serializers.serialize('json', [h, ]))[0]\n",
    "    serialized_obj['history'].append(sh)\n",
    "\n",
    "print(json.dumps(serialized_obj, indent=4, sort_keys=True))"
   ]
  },
  {
   "cell_type": "code",
   "execution_count": null,
   "metadata": {},
   "outputs": [],
   "source": []
  }
 ],
 "metadata": {
  "kernelspec": {
   "display_name": "Python 3 (ipykernel)",
   "language": "python",
   "name": "python3"
  },
  "language_info": {
   "codemirror_mode": {
    "name": "ipython",
    "version": 3
   },
   "file_extension": ".py",
   "mimetype": "text/x-python",
   "name": "python",
   "nbconvert_exporter": "python",
   "pygments_lexer": "ipython3",
   "version": "3.10.6"
  }
 },
 "nbformat": 4,
 "nbformat_minor": 4
}
