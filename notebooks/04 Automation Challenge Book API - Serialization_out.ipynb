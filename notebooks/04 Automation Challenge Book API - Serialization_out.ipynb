{
 "cells": [
  {
   "cell_type": "markdown",
   "metadata": {},
   "source": [
    "## Python imports"
   ]
  },
  {
   "cell_type": "code",
   "execution_count": 1,
   "metadata": {
    "execution": {
     "iopub.execute_input": "2022-08-10T09:47:35.158779Z",
     "iopub.status.busy": "2022-08-10T09:47:35.158399Z",
     "iopub.status.idle": "2022-08-10T09:47:35.196821Z",
     "shell.execute_reply": "2022-08-10T09:47:35.195896Z"
    },
    "scrolled": true
   },
   "outputs": [],
   "source": [
    "from jinja2 import Template\n",
    "import os\n",
    "import sys"
   ]
  },
  {
   "cell_type": "markdown",
   "metadata": {},
   "source": [
    "### _Load Django into Jupyter_"
   ]
  },
  {
   "cell_type": "code",
   "execution_count": 2,
   "metadata": {
    "execution": {
     "iopub.execute_input": "2022-08-10T09:47:35.202062Z",
     "iopub.status.busy": "2022-08-10T09:47:35.201710Z",
     "iopub.status.idle": "2022-08-10T09:47:35.503372Z",
     "shell.execute_reply": "2022-08-10T09:47:35.502364Z"
    }
   },
   "outputs": [],
   "source": [
    "sys.path.append('/bookstore')\n",
    "sys.path.append('/bookstore/project')\n",
    "os.environ['DJANGO_SETTINGS_MODULE'] = 'project.settings'\n",
    "os.environ['DJANGO_ALLOW_ASYNC_UNSAFE'] = 'true'\n",
    "import django\n",
    "django.setup()"
   ]
  },
  {
   "cell_type": "markdown",
   "metadata": {},
   "source": [
    "## Adding LogLevels Objects"
   ]
  },
  {
   "cell_type": "code",
   "execution_count": 3,
   "metadata": {
    "execution": {
     "iopub.execute_input": "2022-08-10T09:47:35.509282Z",
     "iopub.status.busy": "2022-08-10T09:47:35.508957Z",
     "iopub.status.idle": "2022-08-10T09:47:35.530903Z",
     "shell.execute_reply": "2022-08-10T09:47:35.517781Z"
    }
   },
   "outputs": [
    {
     "name": "stdout",
     "output_type": "stream",
     "text": [
      "from bookstore.models import *\n",
      "\n",
      "authors = [\"Harper Lee\", \"Jane Austen\", \"George Orwell\", \"J.D. Salinger\", \\\n",
      "           \"F. Scott Fitzgerald\", \"Emily Brontë\", \"Charlotte Brontë\", \\\n",
      "           \"Ray Bradbury\", \"William Golding\"]\n",
      "\n",
      "books = [{\"title\": \"To Kill a Mockingbird\", \"author\": \"Harper Lee\"}, \\\n",
      "         {\"title\": \"Pride and Prejudice\", \"author\": \"Jane Austen\"}, \\\n",
      "         {\"title\": \"1984\", \"author\": \"George Orwell\"}, \\\n",
      "         {\"title\": \"The Catcher in the Rye\", \"author\": \"J.D. Salinger\"}, \\\n",
      "         {\"title\": \"The Great Gatsby\", \"author\": \"F. Scott Fitzgerald\"}, \\\n",
      "         {\"title\": \"Wuthering Heights\", \"author\": \"Emily Brontë\"}, \\\n",
      "         {\"title\": \"Jane Eyre\", \"author\": \"Charlotte Brontë\"}, \\\n",
      "         {\"title\": \"Fahrenheit 451\", \"author\": \"Ray Bradbury\"}, \\\n",
      "         {\"title\": \"Lord of the Flies\", \"author\": \"William Golding\"}, \\\n",
      "         {\"title\": \"Persuasion\", \"author\": \"Jane Austen\"}]\n",
      "\n",
      "\n",
      "def run():\n",
      "    for a in authors:\n",
      "        Author.objects.get_or_create(name=a)\n",
      "\n",
      "    for b in books:\n",
      "        Book.objects.get_or_create(title=b['title'], \\\n",
      "                                   author=Author.objects.get(name=b['author']))\n",
      "\n",
      "    print(\"Imported %s books, by %s authors\" % (len(Book.objects.all()),\\\n",
      "                                                len(Author.objects.all())))\n",
      "\n"
     ]
    }
   ],
   "source": [
    "with open(\"/templates/dbfill_bookstore.py\", \"r+\") as file:\n",
    "    data = file.read()\n",
    "    if not os.path.exists(\"/bookstore/bookstore/scripts\"):\n",
    "        os.makedirs(\"/bookstore/bookstore/scripts\")\n",
    "    with open(\"/bookstore/bookstore/scripts/dbfill_bookstore.py\", \"w\") as file:\n",
    "        write_file = file.write(data)\n",
    "\n",
    "print(open(\"/bookstore/bookstore/scripts/dbfill_bookstore.py\").read())"
   ]
  },
  {
   "cell_type": "code",
   "execution_count": 4,
   "metadata": {
    "execution": {
     "iopub.execute_input": "2022-08-10T09:47:35.581047Z",
     "iopub.status.busy": "2022-08-10T09:47:35.580661Z",
     "iopub.status.idle": "2022-08-10T09:47:36.533523Z",
     "shell.execute_reply": "2022-08-10T09:47:36.532435Z"
    }
   },
   "outputs": [
    {
     "name": "stdout",
     "output_type": "stream",
     "text": [
      "Imported 10 books, by 9 authors\n"
     ]
    }
   ],
   "source": [
    "%%bash\n",
    "\n",
    "cd /bookstore\n",
    "python manage.py runscript dbfill_bookstore"
   ]
  },
  {
   "cell_type": "markdown",
   "metadata": {},
   "source": [
    "### _let's check . . ._"
   ]
  },
  {
   "cell_type": "code",
   "execution_count": 5,
   "metadata": {
    "execution": {
     "iopub.execute_input": "2022-08-10T09:47:36.538518Z",
     "iopub.status.busy": "2022-08-10T09:47:36.538205Z",
     "iopub.status.idle": "2022-08-10T09:47:36.568918Z",
     "shell.execute_reply": "2022-08-10T09:47:36.567930Z"
    }
   },
   "outputs": [
    {
     "name": "stdout",
     "output_type": "stream",
     "text": [
      "To Kill a Mockingbird, written by Harper Lee\n",
      "Pride and Prejudice, written by Jane Austen\n",
      "1984, written by George Orwell\n",
      "The Catcher in the Rye, written by J.D. Salinger\n",
      "The Great Gatsby, written by F. Scott Fitzgerald\n",
      "Wuthering Heights, written by Emily Brontë\n",
      "Jane Eyre, written by Charlotte Brontë\n",
      "Fahrenheit 451, written by Ray Bradbury\n",
      "Lord of the Flies, written by William Golding\n",
      "Persuasion, written by Jane Austen\n"
     ]
    }
   ],
   "source": [
    "from bookstore.models import *\n",
    "\n",
    "for b in Book.objects.all():\n",
    "    print(\"%s, written by %s\" % (b,b.author))"
   ]
  },
  {
   "cell_type": "markdown",
   "metadata": {},
   "source": [
    "## Configuring Serialization"
   ]
  },
  {
   "cell_type": "code",
   "execution_count": 6,
   "metadata": {
    "execution": {
     "iopub.execute_input": "2022-08-10T09:47:36.573654Z",
     "iopub.status.busy": "2022-08-10T09:47:36.573269Z",
     "iopub.status.idle": "2022-08-10T09:47:36.582415Z",
     "shell.execute_reply": "2022-08-10T09:47:36.581547Z"
    }
   },
   "outputs": [
    {
     "name": "stdout",
     "output_type": "stream",
     "text": [
      "from rest_framework import serializers\n",
      "from .models import *\n",
      "\n",
      "\n",
      "class AuthorSerializer(serializers.HyperlinkedModelSerializer):\n",
      "    class Meta:\n",
      "        model = Author\n",
      "        #fields = ('url', 'id', 'name', 'books')\n",
      "        fields = '__all__'\n",
      "        depth = 1\n",
      "\n",
      "\n",
      "class BookSerializer(serializers.HyperlinkedModelSerializer):\n",
      "    class Meta:\n",
      "        model = Book\n",
      "        #fields = ('url', 'id', 'title', 'author')\n",
      "        fields = '__all__'\n",
      "        depth = 1\n"
     ]
    }
   ],
   "source": [
    "file = '/bookstore/bookstore/serializers.py'\n",
    "    \n",
    "with open(file, 'w') as file:\n",
    "    template = Template(open('/templates/serializers.j2', 'r').read())\n",
    "    print(template.render())\n",
    "    file.write(template.render())"
   ]
  },
  {
   "cell_type": "markdown",
   "metadata": {},
   "source": [
    "## Challenge #3\n",
    "### Explain how serialization helps with data collection"
   ]
  },
  {
   "cell_type": "code",
   "execution_count": 7,
   "metadata": {
    "execution": {
     "iopub.execute_input": "2022-08-10T09:47:36.586709Z",
     "iopub.status.busy": "2022-08-10T09:47:36.586343Z",
     "iopub.status.idle": "2022-08-10T09:47:36.688151Z",
     "shell.execute_reply": "2022-08-10T09:47:36.687233Z"
    }
   },
   "outputs": [
    {
     "data": {
      "text/plain": [
       "BookSerializer(<Book: Persuasion>):\n",
       "    url = HyperlinkedIdentityField(view_name='book-detail')\n",
       "    title = CharField(max_length=100)\n",
       "    author = NestedSerializer(read_only=True):\n",
       "        url = HyperlinkedIdentityField(view_name='author-detail')\n",
       "        name = CharField(label='Author', max_length=20)"
      ]
     },
     "execution_count": 7,
     "metadata": {},
     "output_type": "execute_result"
    }
   ],
   "source": [
    "from bookstore.serializers import BookSerializer\n",
    "book = Book.objects.last()\n",
    "serialized = BookSerializer(book)\n",
    "\n",
    "serialized"
   ]
  },
  {
   "cell_type": "code",
   "execution_count": 8,
   "metadata": {
    "execution": {
     "iopub.execute_input": "2022-08-10T09:47:36.692552Z",
     "iopub.status.busy": "2022-08-10T09:47:36.692058Z",
     "iopub.status.idle": "2022-08-10T09:47:36.721483Z",
     "shell.execute_reply": "2022-08-10T09:47:36.720361Z"
    }
   },
   "outputs": [
    {
     "name": "stdout",
     "output_type": "stream",
     "text": [
      "{\n",
      "    \"fields\": {\n",
      "        \"author\": 2,\n",
      "        \"title\": \"Persuasion\"\n",
      "    },\n",
      "    \"history\": [\n",
      "        {\n",
      "            \"fields\": {\n",
      "                \"author\": 2,\n",
      "                \"history_change_reason\": null,\n",
      "                \"history_date\": \"2022-08-10T09:47:36.403Z\",\n",
      "                \"history_type\": \"+\",\n",
      "                \"history_user\": null,\n",
      "                \"id\": 10,\n",
      "                \"title\": \"Persuasion\"\n",
      "            },\n",
      "            \"model\": \"bookstore.historicalbook\",\n",
      "            \"pk\": 10\n",
      "        }\n",
      "    ],\n",
      "    \"model\": \"bookstore.book\",\n",
      "    \"pk\": 10\n",
      "}\n"
     ]
    }
   ],
   "source": [
    "from django.core import serializers\n",
    "import json\n",
    "\n",
    "\n",
    "serialized_obj = json.loads(serializers.serialize('json', [book, ]))[0]\n",
    "serialized_obj['history'] = []\n",
    "for h in book.history.all():\n",
    "    sh = json.loads(serializers.serialize('json', [h, ]))[0]\n",
    "    serialized_obj['history'].append(sh)\n",
    "\n",
    "print(json.dumps(serialized_obj, indent=4, sort_keys=True))"
   ]
  },
  {
   "cell_type": "code",
   "execution_count": null,
   "metadata": {},
   "outputs": [],
   "source": []
  },
  {
   "cell_type": "code",
   "execution_count": null,
   "metadata": {},
   "outputs": [],
   "source": []
  }
 ],
 "metadata": {
  "kernelspec": {
   "display_name": "Python 3 (ipykernel)",
   "language": "python",
   "name": "python3"
  },
  "language_info": {
   "codemirror_mode": {
    "name": "ipython",
    "version": 3
   },
   "file_extension": ".py",
   "mimetype": "text/x-python",
   "name": "python",
   "nbconvert_exporter": "python",
   "pygments_lexer": "ipython3",
   "version": "3.10.6"
  }
 },
 "nbformat": 4,
 "nbformat_minor": 4
}
