{
 "cells": [
  {
   "cell_type": "markdown",
   "metadata": {},
   "source": [
    "## Python imports"
   ]
  },
  {
   "cell_type": "code",
   "execution_count": null,
   "metadata": {
    "scrolled": true
   },
   "outputs": [],
   "source": [
    "import requests\n",
    "import json\n",
    "import os\n",
    "import sys\n",
    "import urllib3\n",
    "urllib3.disable_warnings()"
   ]
  },
  {
   "cell_type": "markdown",
   "metadata": {},
   "source": [
    "### _Load Django into Jupyter_"
   ]
  },
  {
   "cell_type": "code",
   "execution_count": null,
   "metadata": {},
   "outputs": [],
   "source": [
    "sys.path.append('/bookstore')\n",
    "sys.path.append('/bookstore/project')\n",
    "os.environ['DJANGO_SETTINGS_MODULE'] = 'project.settings'\n",
    "os.environ['DJANGO_ALLOW_ASYNC_UNSAFE'] = 'true'\n",
    "import django\n",
    "django.setup()"
   ]
  },
  {
   "cell_type": "markdown",
   "metadata": {},
   "source": [
    "## Challenge #9\n",
    "### Logging to Splunk\n",
    "Create a token and post a log message"
   ]
  },
  {
   "cell_type": "code",
   "execution_count": null,
   "metadata": {
    "scrolled": false
   },
   "outputs": [],
   "source": [
    "endpoint = \"https://splunk:8089\"\n",
    "auth = ('admin', 'secret123')\n",
    "app = \"bookstore\"\n",
    "index = f\"{app}_index\"\n",
    "\n",
    "def get_index_list():\n",
    "    url = f\"{endpoint}/services/data/indexes?datatype=event\"\n",
    "    data = {'output_mode':'json'}\n",
    "    response = requests.get(url, data=data, auth=auth, verify=False).json()\n",
    "    return [index['name'] for index in response['entry']]\n",
    "\n",
    "if index in get_index_list():\n",
    "    data = {\n",
    "        'output_mode':'json'\n",
    "    }\n",
    "    response = requests.get(f\"{endpoint}/services/data/indexes/{index}\", data=data, auth=auth, verify=False).json()\n",
    "else:\n",
    "    data = {\n",
    "        'name': index,\n",
    "        'datatype': 'event',\n",
    "        'output_mode':'json'\n",
    "    }\n",
    "    response = requests.post(f\"{endpoint}/services/data/indexes\", data=data, auth=auth, verify=False).json()\n",
    "index = response['entry'][0]\n",
    "index.pop('acl', None)\n",
    "index.pop('author', None)\n",
    "index.pop('content', None)\n",
    "index.pop('fields', None)\n",
    "index.pop('links', None)\n",
    "print(json.dumps(index, indent=4, sort_keys=True))"
   ]
  },
  {
   "cell_type": "code",
   "execution_count": null,
   "metadata": {},
   "outputs": [],
   "source": [
    "def get_input_http_list():\n",
    "    url = f\"{endpoint}/services/data/inputs/http\"\n",
    "    data = {'output_mode':'json'}\n",
    "    response = requests.get(url, data=data, auth=auth, verify=False).json()\n",
    "    print()\n",
    "    return [index['name'] for index in response['entry']]\n",
    "\n",
    "if f\"http://{app}\" in get_input_http_list():\n",
    "    url = f\"{endpoint}/servicesNS/nobody/splunk_httpinput/data/inputs/http/http%3A%252F%252F{app}\"\n",
    "    data = {\n",
    "        'output_mode':'json'\n",
    "    }\n",
    "    response = requests.get(url, data=data, auth=auth, verify=False).json()\n",
    "else:\n",
    "    data = {\n",
    "        'name': f'{app}',\n",
    "        'index': f'{app}_index',\n",
    "        'description': f'{app.capitalize()} Token',\n",
    "        'index': f'{app}_index',\n",
    "        'source': f'{app}_run_monitor',\n",
    "        'output_mode':'json'\n",
    "    }\n",
    "    response = requests.post(f\"{endpoint}/services/data/inputs/http\", data=data, auth=auth, verify=False).json()\n",
    "index = response['entry'][0]\n",
    "index.pop('acl', None)\n",
    "index.pop('author', None)\n",
    "index['description'] = index['content']['description']\n",
    "index['token'] = splunk_token = index['content']['token']\n",
    "index.pop('content', None)\n",
    "index.pop('fields', None)\n",
    "index.pop('links', None)\n",
    "print(json.dumps(response['entry'][0], indent=4, sort_keys=True))"
   ]
  },
  {
   "cell_type": "markdown",
   "metadata": {},
   "source": [
    "## Check Collector"
   ]
  },
  {
   "cell_type": "code",
   "execution_count": null,
   "metadata": {},
   "outputs": [],
   "source": [
    "url = \"https://splunk:8088/services/collector/health\"\n",
    "headers = {\n",
    "    'Content-Type': 'application/json',\n",
    "    'Authorization': f'Splunk {splunk_token}'\n",
    "}\n",
    "\n",
    "response = requests.get(url, headers=headers, verify=False).json()\n",
    "print(json.dumps(response, indent=4, sort_keys=True))"
   ]
  },
  {
   "cell_type": "markdown",
   "metadata": {},
   "source": [
    "## Upload log entries"
   ]
  },
  {
   "cell_type": "code",
   "execution_count": null,
   "metadata": {},
   "outputs": [],
   "source": [
    "import random\n",
    "\n",
    "def splunklog(dict):\n",
    "    payload = {\n",
    "        'index': f'{app}_index',\n",
    "        'event': dict\n",
    "    }\n",
    "    response = requests.post(url, headers=headers, json=payload, verify=False).json()\n",
    "#     print(json.dumps(response, indent=4, sort_keys=True))\n",
    "    return response\n",
    "\n",
    "for i in range(0,4):\n",
    "    users = [\"Anna\", \"Bob\", \"Carlos\"]\n",
    "    dict = { 'message' : \"Dummy test python client log\", 'user': random.choice(users)}\n",
    "    splunklog(dict)"
   ]
  },
  {
   "cell_type": "code",
   "execution_count": null,
   "metadata": {},
   "outputs": [],
   "source": [
    "https://splunk_server:8089/services/search/jobs/export?search=search index=_internal earliest=-1d latest=now \n",
    "        | stats count by host&output_mode=json"
   ]
  },
  {
   "cell_type": "code",
   "execution_count": null,
   "metadata": {
    "scrolled": false
   },
   "outputs": [],
   "source": [
    "data = {\n",
    "    'search': 'index=\"bookstore_index\"',\n",
    "    'output_mode':'json'\n",
    "}\n",
    "response = requests.get(f\"{endpoint}/services/search/jobs\", data=data, auth=auth, verify=False).json()\n",
    "url = f\"{endpoint}{response['entry'][0]['links']['events']}\"\n",
    "response = requests.get(url, data=data, auth=auth, verify=False).json()\n",
    "for log in response['results']:\n",
    "    print(json.dumps(log, indent=4, sort_keys=True))"
   ]
  }
 ],
 "metadata": {
  "kernelspec": {
   "display_name": "Python 3 (ipykernel)",
   "language": "python",
   "name": "python3"
  },
  "language_info": {
   "codemirror_mode": {
    "name": "ipython",
    "version": 3
   },
   "file_extension": ".py",
   "mimetype": "text/x-python",
   "name": "python",
   "nbconvert_exporter": "python",
   "pygments_lexer": "ipython3",
   "version": "3.10.4"
  }
 },
 "nbformat": 4,
 "nbformat_minor": 4
}
