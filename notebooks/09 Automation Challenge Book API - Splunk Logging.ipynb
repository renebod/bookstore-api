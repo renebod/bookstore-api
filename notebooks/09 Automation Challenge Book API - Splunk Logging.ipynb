{
 "cells": [
  {
   "cell_type": "markdown",
   "metadata": {},
   "source": [
    "## Python imports"
   ]
  },
  {
   "cell_type": "code",
   "execution_count": null,
   "metadata": {
    "scrolled": true
   },
   "outputs": [],
   "source": [
    "import requests\n",
    "import json\n",
    "import os\n",
    "import sys\n",
    "from random import randint\n",
    "import urllib3\n",
    "urllib3.disable_warnings()"
   ]
  },
  {
   "cell_type": "markdown",
   "metadata": {},
   "source": [
    "### _Load Django into Jupyter_"
   ]
  },
  {
   "cell_type": "code",
   "execution_count": null,
   "metadata": {},
   "outputs": [],
   "source": [
    "sys.path.append('/bookstore')\n",
    "sys.path.append('/bookstore/project')\n",
    "os.environ['DJANGO_SETTINGS_MODULE'] = 'project.settings'\n",
    "os.environ['DJANGO_ALLOW_ASYNC_UNSAFE'] = 'true'\n",
    "import django\n",
    "django.setup()"
   ]
  },
  {
   "cell_type": "code",
   "execution_count": null,
   "metadata": {},
   "outputs": [],
   "source": [
    "def get_token(url, username, password):\n",
    "    payload = {'username': username, 'password': password}\n",
    "    headers = {'Content-type': 'application/json'}\n",
    "    return requests.post(f'{url}/token/', json=payload, headers=headers).json()['access']"
   ]
  },
  {
   "cell_type": "code",
   "execution_count": null,
   "metadata": {},
   "outputs": [],
   "source": [
    "url = 'http://bookstore:8000/api'\n",
    "token = get_token(url, 'carlos.carrot', 'secret123')\n",
    "headers = {'Content-type': 'application/json', 'Authorization': f'Bearer {token}'}\n",
    "books = requests.get(f'{url}/book', headers=headers).json()\n",
    "rand_book = books[randint(0, len(books)-1)]\n",
    "rand_book['title'] += \" Appeltaart\"\n",
    "book = requests.put(rand_book['url'], json=rand_book, headers=headers).json()\n",
    "book"
   ]
  },
  {
   "cell_type": "code",
   "execution_count": null,
   "metadata": {},
   "outputs": [],
   "source": [
    "from bookstore.models import *\n",
    "\n",
    "my_book = Book.objects.get(id=book['id'])\n",
    "\n",
    "for h in my_book.history.all():\n",
    "    print(h)\n",
    "\n",
    "my_book.history.all()"
   ]
  },
  {
   "cell_type": "code",
   "execution_count": null,
   "metadata": {},
   "outputs": [],
   "source": [
    "# requests.get(f'{url}/book?author=Ray%20Bradbury', headers=headers).json()"
   ]
  },
  {
   "cell_type": "markdown",
   "metadata": {},
   "source": [
    "## Challenge #8\n",
    "### Logging to Splunk\n",
    "Create a token and post a log message"
   ]
  },
  {
   "cell_type": "code",
   "execution_count": null,
   "metadata": {},
   "outputs": [],
   "source": [
    "with open(\"/templates/splunk.py\", \"r+\") as file:\n",
    "    data = file.read()\n",
    "    if not os.path.exists(\"/bookstore/bookstore\"):\n",
    "        os.makedirs(\"/bookstore/bookstore\")\n",
    "    with open(\"/bookstore/bookstore/splunk.py\", \"w\") as file:\n",
    "        write_file = file.write(data)\n",
    "\n",
    "# print(open(\"/bookstore/bookstore/splunk.py\").read())"
   ]
  },
  {
   "cell_type": "code",
   "execution_count": null,
   "metadata": {},
   "outputs": [],
   "source": [
    "# import os\n",
    "\n",
    "# os.listdir('/bookstore/bookstore')"
   ]
  },
  {
   "cell_type": "code",
   "execution_count": null,
   "metadata": {},
   "outputs": [],
   "source": [
    "from bookstore.splunk import *\n",
    "\n",
    "app = 'bookstore'\n",
    "\n",
    "index = get_splunk_index(app)\n",
    "print(json.dumps(index, indent=4, sort_keys=True))\n",
    "\n",
    "input_http, splunk_token = get_splunk_input_http(app)\n",
    "print(json.dumps(input_http, indent=4, sort_keys=True))"
   ]
  },
  {
   "cell_type": "markdown",
   "metadata": {},
   "source": [
    "## Check Collector"
   ]
  },
  {
   "cell_type": "code",
   "execution_count": null,
   "metadata": {},
   "outputs": [],
   "source": [
    "url = \"https://splunk:8088/services/collector\"\n",
    "headers = {\n",
    "    'Content-Type': 'application/json',\n",
    "    'Authorization': f'Splunk {splunk_token}'\n",
    "}\n",
    "\n",
    "response = requests.get(f\"{url}/health\", headers=headers, verify=False).json()\n",
    "print(json.dumps(response, indent=4, sort_keys=True))"
   ]
  },
  {
   "cell_type": "markdown",
   "metadata": {},
   "source": [
    "## Upload log entries"
   ]
  },
  {
   "cell_type": "code",
   "execution_count": null,
   "metadata": {},
   "outputs": [],
   "source": [
    "import random\n",
    "\n",
    "for i in range(0,4):\n",
    "    users = [\"Anna\", \"Bob\", \"Carlos\"]\n",
    "    dict = { 'message' : \"Dummy test python client log\", 'user': random.choice(users)}\n",
    "    log = splunklog('bookstore', dict)\n",
    "    print(log)"
   ]
  },
  {
   "cell_type": "code",
   "execution_count": null,
   "metadata": {
    "scrolled": false
   },
   "outputs": [],
   "source": [
    "from time import sleep\n",
    "\n",
    "endpoint = \"https://splunk:8089\"\n",
    "auth = ('admin', 'secret123')\n",
    "data = {\n",
    "    'search': f'search index={app}_index',\n",
    "    'output_mode':'json'\n",
    "}\n",
    "response = requests.post(f\"{endpoint}/services/search/jobs\", data=data, auth=auth, verify=False).json()\n",
    "sid=response['sid']\n",
    "\n",
    "while True:\n",
    "    response = requests.get(f\"{endpoint}/services/search/jobs/{sid}\", data=data, auth=auth, verify=False).json()\n",
    "    if response['entry'][0]['content']['isDone']:\n",
    "        break\n",
    "    else:\n",
    "        sleep(1)\n",
    "\n",
    "url = f\"{endpoint}{response['entry'][0]['links']['events']}\"\n",
    "response = requests.get(url, data=data, auth=auth, verify=False).json()\n",
    "for log in response['results']:\n",
    "    print(json.dumps(json.loads(log['_raw']), indent=4, sort_keys=True))"
   ]
  }
 ],
 "metadata": {
  "kernelspec": {
   "display_name": "Python 3 (ipykernel)",
   "language": "python",
   "name": "python3"
  },
  "language_info": {
   "codemirror_mode": {
    "name": "ipython",
    "version": 3
   },
   "file_extension": ".py",
   "mimetype": "text/x-python",
   "name": "python",
   "nbconvert_exporter": "python",
   "pygments_lexer": "ipython3",
   "version": "3.10.4"
  }
 },
 "nbformat": 4,
 "nbformat_minor": 4
}
