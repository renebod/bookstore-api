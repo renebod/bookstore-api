{
 "cells": [
  {
   "cell_type": "markdown",
   "metadata": {},
   "source": [
    "## Python imports"
   ]
  },
  {
   "cell_type": "code",
   "execution_count": null,
   "metadata": {
    "scrolled": true
   },
   "outputs": [],
   "source": [
    "import os\n",
    "import sys\n",
    "import requests\n",
    "from bs4 import BeautifulSoup\n",
    "from jinja2 import Template"
   ]
  },
  {
   "cell_type": "markdown",
   "metadata": {},
   "source": [
    "### _Load Django into Jupyter_"
   ]
  },
  {
   "cell_type": "code",
   "execution_count": null,
   "metadata": {},
   "outputs": [],
   "source": [
    "sys.path.append('/bookstore')\n",
    "sys.path.append('/bookstore/project')\n",
    "os.environ['DJANGO_SETTINGS_MODULE'] = 'project.settings'\n",
    "os.environ['DJANGO_ALLOW_ASYNC_UNSAFE'] = 'true'\n",
    "import django\n",
    "django.setup()"
   ]
  },
  {
   "cell_type": "markdown",
   "metadata": {},
   "source": [
    "## Show Django Admin Page Title"
   ]
  },
  {
   "cell_type": "code",
   "execution_count": null,
   "metadata": {},
   "outputs": [],
   "source": [
    "url = 'http://bookstore:8000/admin'\n",
    "\n",
    "def page_title(url):\n",
    "    page = requests.get(url)\n",
    "    soup = BeautifulSoup(page.content, 'html.parser')\n",
    "    return soup.title.string\n",
    "\n",
    "page_title(url)"
   ]
  },
  {
   "cell_type": "markdown",
   "metadata": {},
   "source": [
    "## Add Application"
   ]
  },
  {
   "cell_type": "code",
   "execution_count": null,
   "metadata": {},
   "outputs": [],
   "source": [
    "applist = \"INSTALLED_APPS = [\\n\\\n",
    "    'django.contrib.admin',\\n\\\n",
    "    'django.contrib.auth',\\n\\\n",
    "    'django.contrib.contenttypes',\\n\\\n",
    "    'django.contrib.sessions',\\n\\\n",
    "    'django.contrib.messages',\\n\\\n",
    "    'django.contrib.staticfiles',\\n\\\n",
    "]\"\n",
    "\n",
    "newlist = \"INSTALLED_APPS = [\\n\\\n",
    "    'django.contrib.admin',\\n\\\n",
    "    'django.contrib.auth',\\n\\\n",
    "    'django.contrib.contenttypes',\\n\\\n",
    "    'django.contrib.sessions',\\n\\\n",
    "    'django.contrib.messages',\\n\\\n",
    "    'django.contrib.staticfiles',\\n\\\n",
    "    'django_extensions',\\n\\\n",
    "    'rest_framework',\\n\\\n",
    "    'django_filters',\\n\\\n",
    "    'simple_history',\\n\\\n",
    "    'bookstore',\\n\\\n",
    "]\""
   ]
  },
  {
   "cell_type": "code",
   "execution_count": null,
   "metadata": {
    "scrolled": true
   },
   "outputs": [],
   "source": [
    "file = '/bookstore/project/settings.py'\n",
    "    \n",
    "with open(file, 'r') as settings_file:\n",
    "    data = settings_file.read()\n",
    "    data = data.replace(applist, newlist)\n",
    "with open(file, 'w') as settings_file:\n",
    "    write_file = settings_file.write(data)"
   ]
  },
  {
   "cell_type": "code",
   "execution_count": null,
   "metadata": {},
   "outputs": [],
   "source": [
    "middleware = \"MIDDLEWARE = [\\n\\\n",
    "    'django.middleware.security.SecurityMiddleware',\\n\\\n",
    "    'django.contrib.sessions.middleware.SessionMiddleware',\\n\\\n",
    "    'django.middleware.common.CommonMiddleware',\\n\\\n",
    "    'django.middleware.csrf.CsrfViewMiddleware',\\n\\\n",
    "    'django.contrib.auth.middleware.AuthenticationMiddleware',\\n\\\n",
    "    'django.contrib.messages.middleware.MessageMiddleware',\\n\\\n",
    "    'django.middleware.clickjacking.XFrameOptionsMiddleware',\\n\\\n",
    "]\"\n",
    "\n",
    "middleware_new = \"MIDDLEWARE = [\\n\\\n",
    "    'django.middleware.security.SecurityMiddleware',\\n\\\n",
    "    'django.contrib.sessions.middleware.SessionMiddleware',\\n\\\n",
    "    'django.middleware.common.CommonMiddleware',\\n\\\n",
    "    'django.middleware.csrf.CsrfViewMiddleware',\\n\\\n",
    "    'django.contrib.auth.middleware.AuthenticationMiddleware',\\n\\\n",
    "    'django.contrib.messages.middleware.MessageMiddleware',\\n\\\n",
    "    'django.middleware.clickjacking.XFrameOptionsMiddleware',\\n\\\n",
    "    'simple_history.middleware.HistoryRequestMiddleware'\\n\\\n",
    "]\""
   ]
  },
  {
   "cell_type": "code",
   "execution_count": null,
   "metadata": {},
   "outputs": [],
   "source": [
    "file = '/bookstore/project/settings.py'\n",
    "    \n",
    "with open(file, 'r') as settings_file:\n",
    "    data = settings_file.read()\n",
    "    data = data.replace(middleware, middleware_new)\n",
    "with open(file, 'w') as settings_file:\n",
    "    write_file = settings_file.write(data)"
   ]
  },
  {
   "cell_type": "markdown",
   "metadata": {},
   "source": [
    "## Jinja example\n",
    "\n",
    "Web frameworks like Flask and Django, or automation ones like Ansible and Salt, provide out of the box support for Jinja. It's a natural choice for templating engine when using any of those. Ansible even uses a lot of the Jinja syntax in its Playbooks.\n",
    "\n",
    "Jinja2 essentially needs two source ingredients, template and data that will be used to render the final document."
   ]
  },
  {
   "cell_type": "markdown",
   "metadata": {},
   "source": [
    "![title](images/jinja.png)"
   ]
  },
  {
   "cell_type": "code",
   "execution_count": null,
   "metadata": {},
   "outputs": [],
   "source": [
    "name = 'Peter'\n",
    "age = 34\n",
    "\n",
    "template = Template(\"My name is {{ name }} and I am {{ age }}\")\n",
    "msg = template.render(name=name, age=age)\n",
    "\n",
    "print(msg)"
   ]
  },
  {
   "cell_type": "markdown",
   "metadata": {},
   "source": [
    "## Getting data in and out of Django"
   ]
  },
  {
   "cell_type": "code",
   "execution_count": null,
   "metadata": {},
   "outputs": [],
   "source": [
    "file = '/bookstore/bookstore/models.py'    \n",
    "    \n",
    "with open(file, 'w') as models_file:\n",
    "    template = Template(open('/templates/models.j2', 'r').read())\n",
    "#     print(template.render(splunk=True))\n",
    "    print(template.render())\n",
    "    models_file.write(template.render())"
   ]
  },
  {
   "cell_type": "code",
   "execution_count": null,
   "metadata": {},
   "outputs": [],
   "source": [
    "# file = '/bookstore/bookstore/signals.py'    \n",
    "    \n",
    "# with open(file, 'w') as file:\n",
    "#     template = Template(open('/templates/signals.j2', 'r').read())\n",
    "#     print(template.render())\n",
    "#     file.write(template.render())"
   ]
  },
  {
   "cell_type": "code",
   "execution_count": null,
   "metadata": {},
   "outputs": [],
   "source": [
    "%%bash\n",
    "\n",
    "cd /bookstore\n",
    "python manage.py makemigrations bookstore\n",
    "python manage.py migrate\n",
    "python manage.py populate_history --auto\n",
    "python manage.py check"
   ]
  },
  {
   "cell_type": "markdown",
   "metadata": {},
   "source": [
    "## Update Admin"
   ]
  },
  {
   "cell_type": "code",
   "execution_count": null,
   "metadata": {},
   "outputs": [],
   "source": [
    "file = '/bookstore/bookstore/admin.py'  \n",
    "    \n",
    "with open(file, 'w') as admin_file:\n",
    "    template = Template(open('/templates/admin.j2', 'r').read())\n",
    "    print(template.render())\n",
    "    admin_file.write(template.render())"
   ]
  },
  {
   "cell_type": "code",
   "execution_count": null,
   "metadata": {},
   "outputs": [],
   "source": [
    "%%bash\n",
    "\n",
    "cd /bookstore\n",
    "python manage.py createsuperuser"
   ]
  },
  {
   "cell_type": "code",
   "execution_count": null,
   "metadata": {},
   "outputs": [],
   "source": [
    "from django.contrib.auth.models import User\n",
    "for name in ['Alice Appleseed', 'Bob Bananarama', 'Carlos Carrot']:\n",
    "    user = User.objects.create_user(username=f\"{name.replace(' ', '.').lower()}\",\n",
    "                                    email=f\"{name.replace(' ', '.').lower()}@example.com\",\n",
    "                                    password='secret123')\n",
    "    user.first_name = name.split(' ')[0]\n",
    "    user.last_name = name.split(' ')[1]\n",
    "    user.is_staff = True\n",
    "    user.is_superuser = True\n",
    "    user.save()"
   ]
  },
  {
   "cell_type": "code",
   "execution_count": null,
   "metadata": {},
   "outputs": [],
   "source": [
    "User.objects.all()"
   ]
  },
  {
   "cell_type": "markdown",
   "metadata": {},
   "source": [
    "## Challenge #1\n",
    "### Explain how to login and manually create a book entry through the admin page"
   ]
  }
 ],
 "metadata": {
  "kernelspec": {
   "display_name": "Python 3 (ipykernel)",
   "language": "python",
   "name": "python3"
  },
  "language_info": {
   "codemirror_mode": {
    "name": "ipython",
    "version": 3
   },
   "file_extension": ".py",
   "mimetype": "text/x-python",
   "name": "python",
   "nbconvert_exporter": "python",
   "pygments_lexer": "ipython3",
   "version": "3.10.4"
  }
 },
 "nbformat": 4,
 "nbformat_minor": 4
}
