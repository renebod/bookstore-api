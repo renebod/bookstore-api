{
 "cells": [
  {
   "cell_type": "markdown",
   "metadata": {},
   "source": [
    "## Python imports"
   ]
  },
  {
   "cell_type": "code",
   "execution_count": null,
   "metadata": {
    "scrolled": true
   },
   "outputs": [],
   "source": [
    "import requests\n",
    "import json\n",
    "from bs4 import BeautifulSoup\n",
    "from jinja2 import Template\n",
    "import os\n",
    "import sys"
   ]
  },
  {
   "cell_type": "markdown",
   "metadata": {},
   "source": [
    "### _Load Django into Jupyter_"
   ]
  },
  {
   "cell_type": "code",
   "execution_count": null,
   "metadata": {},
   "outputs": [],
   "source": [
    "sys.path.append('/bookstore')\n",
    "sys.path.append('/bookstore/project')\n",
    "os.environ['DJANGO_SETTINGS_MODULE'] = 'project.settings'\n",
    "os.environ['DJANGO_ALLOW_ASYNC_UNSAFE'] = 'true'\n",
    "import django\n",
    "django.setup()"
   ]
  },
  {
   "cell_type": "markdown",
   "metadata": {},
   "source": [
    "### _Obtain App and DB models_"
   ]
  },
  {
   "cell_type": "code",
   "execution_count": null,
   "metadata": {},
   "outputs": [],
   "source": [
    "from django.apps import apps\n",
    "app_models = [v for k,v in apps.all_models['bookstore'].items()]\n",
    "\n",
    "dbdesign = [{'model': model._meta.object_name, \\\n",
    "             'fields': [field.name for field in \\\n",
    "                        model._meta.get_fields()]} \\\n",
    "            for model in app_models]"
   ]
  },
  {
   "cell_type": "markdown",
   "metadata": {},
   "source": [
    "### Add DRF Token Authentication"
   ]
  },
  {
   "cell_type": "code",
   "execution_count": null,
   "metadata": {},
   "outputs": [],
   "source": [
    "old = \"WSGI_APPLICATION = 'project.wsgi.application'\\n\\n\\n\"\n",
    "new = \"WSGI_APPLICATION = 'project.wsgi.application'\\n\\\n",
    "\\n\\\n",
    "REST_FRAMEWORK = {\\n\\\n",
    "    'DEFAULT_FILTER_BACKENDS': [\\n\\\n",
    "        'django_filters.rest_framework.DjangoFilterBackend'\\n\\\n",
    "    ],\\n\\\n",
    "    'DEFAULT_AUTHENTICATION_CLASSES': [\\n\\\n",
    "        'rest_framework.authentication.BasicAuthentication',\\n\\\n",
    "        'rest_framework.authentication.SessionAuthentication',\\n\\\n",
    "        'rest_framework_simplejwt.authentication.JWTAuthentication'\\n\\\n",
    "    ],\\n\\\n",
    "}\\n\\n\\n\"\n",
    "\n",
    "with open(\"/bookstore/project/settings.py\", \"r+\") as file:\n",
    "    data = file.read()\n",
    "    data = data.replace(old, new)\n",
    "    with open(\"/bookstore/project/settings.py\", \"w\") as file:\n",
    "        write_file = file.write(data)"
   ]
  },
  {
   "cell_type": "markdown",
   "metadata": {},
   "source": [
    "## Adding Views"
   ]
  },
  {
   "cell_type": "code",
   "execution_count": null,
   "metadata": {},
   "outputs": [],
   "source": [
    "from django.apps import apps\n",
    "file = '/bookstore/bookstore/views.py'  \n",
    "    \n",
    "with open(file, 'w') as file:\n",
    "    template = Template(open('/templates/views.j2', 'r').read())\n",
    "    print(template.render(dbdesign=[app['model'] for app in dbdesign]))\n",
    "    file.write(template.render(dbdesign=[app['model'] for app in dbdesign]))"
   ]
  },
  {
   "cell_type": "markdown",
   "metadata": {},
   "source": [
    "## Adding URLs"
   ]
  },
  {
   "cell_type": "code",
   "execution_count": null,
   "metadata": {},
   "outputs": [],
   "source": [
    "from django.apps import apps\n",
    "file = '/bookstore/bookstore/urls.py' \n",
    "    \n",
    "with open(file, 'w') as file:\n",
    "    template = Template(open('/templates/urls_app.j2', 'r').read())\n",
    "    print(template.render(dbdesign=[app['model'] for app in dbdesign]))\n",
    "    file.write(template.render(dbdesign=[app['model'] for app in dbdesign]))"
   ]
  },
  {
   "cell_type": "code",
   "execution_count": null,
   "metadata": {},
   "outputs": [],
   "source": [
    "from django.apps import apps\n",
    "file = '/bookstore/project/urls.py'   \n",
    "appname = [app for app in apps.app_configs][-1]\n",
    "\n",
    "with open(file, 'w') as file:\n",
    "    template = Template(open('/templates/urls.j2', 'r').read())\n",
    "    print(template.render(app_name=appname))\n",
    "    file.write(template.render(app_name=appname))"
   ]
  },
  {
   "cell_type": "markdown",
   "metadata": {},
   "source": [
    "### _let's check . . ._"
   ]
  },
  {
   "cell_type": "code",
   "execution_count": null,
   "metadata": {},
   "outputs": [],
   "source": [
    "url = 'http://bookstore:8000/api'\n",
    "\n",
    "def page_title(url):\n",
    "    page = requests.get(url)\n",
    "    soup = BeautifulSoup(page.content, 'html.parser')\n",
    "    return soup\n",
    "\n",
    "page_title(url)"
   ]
  },
  {
   "cell_type": "markdown",
   "metadata": {},
   "source": [
    "![title](images/drf.png)"
   ]
  },
  {
   "cell_type": "markdown",
   "metadata": {},
   "source": [
    "## JSON browsing"
   ]
  },
  {
   "cell_type": "code",
   "execution_count": null,
   "metadata": {},
   "outputs": [],
   "source": [
    "url = 'http://bookstore:8000/api'\n",
    "headers = {'Content-type': 'application/json'}\n",
    "requests.get(url, headers=headers).json()"
   ]
  },
  {
   "cell_type": "code",
   "execution_count": null,
   "metadata": {},
   "outputs": [],
   "source": [
    "url = \"http://bookstore:8000/api\"\n",
    "payload = {'username': 'carlos.carrot', 'password': 'secret123'}\n",
    "token = requests.post(f'{url}/token/', json=payload, headers=headers).json()['access']\n",
    "headers['Authorization'] = f\"Bearer {token}\"\n",
    "\n",
    "print(json.dumps(headers, indent=4, sort_keys=True))"
   ]
  },
  {
   "cell_type": "code",
   "execution_count": null,
   "metadata": {},
   "outputs": [],
   "source": [
    "url = \"http://bookstore:8000/api\"\n",
    "for model in [app['model'] for app in dbdesign if 'Historical' not in app['model']]:\n",
    "    response = requests.get(f\"{url}/{model.lower()}\", headers=headers).json()\n",
    "    print(f\"A total of {len(response)} {model} API Objects\")\n",
    "#     print(json.dumps(response[-2:], indent=4, sort_keys=True))"
   ]
  }
 ],
 "metadata": {
  "kernelspec": {
   "display_name": "Python 3 (ipykernel)",
   "language": "python",
   "name": "python3"
  },
  "language_info": {
   "codemirror_mode": {
    "name": "ipython",
    "version": 3
   },
   "file_extension": ".py",
   "mimetype": "text/x-python",
   "name": "python",
   "nbconvert_exporter": "python",
   "pygments_lexer": "ipython3",
   "version": "3.10.4"
  }
 },
 "nbformat": 4,
 "nbformat_minor": 4
}
