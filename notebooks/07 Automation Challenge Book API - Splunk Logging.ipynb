{
 "cells": [
  {
   "cell_type": "markdown",
   "metadata": {},
   "source": [
    "## Python imports"
   ]
  },
  {
   "cell_type": "code",
   "execution_count": 1,
   "metadata": {
    "scrolled": true
   },
   "outputs": [],
   "source": [
    "import requests\n",
    "import json\n",
    "import time\n",
    "from jinja2 import Template\n",
    "import os\n",
    "import sys\n",
    "from random import randint\n",
    "import urllib3\n",
    "urllib3.disable_warnings()"
   ]
  },
  {
   "cell_type": "markdown",
   "metadata": {},
   "source": [
    "### _Load Django into Jupyter_"
   ]
  },
  {
   "cell_type": "code",
   "execution_count": 2,
   "metadata": {},
   "outputs": [],
   "source": [
    "sys.path.append('/bookstore')\n",
    "sys.path.append('/bookstore/project')\n",
    "os.environ['DJANGO_SETTINGS_MODULE'] = 'project.settings'\n",
    "os.environ['DJANGO_ALLOW_ASYNC_UNSAFE'] = 'true'\n",
    "import django\n",
    "django.setup()"
   ]
  },
  {
   "cell_type": "code",
   "execution_count": 3,
   "metadata": {},
   "outputs": [],
   "source": [
    "with open(\"/templates/splunk.py\", \"r+\") as file:\n",
    "    data = file.read()\n",
    "    if not os.path.exists(\"/bookstore/bookstore\"):\n",
    "        os.makedirs(\"/bookstore/bookstore\")\n",
    "    with open(\"/bookstore/bookstore/splunk.py\", \"w\") as file:\n",
    "        write_file = file.write(data)\n",
    "\n",
    "# print(open(\"/bookstore/bookstore/splunk.py\").read())"
   ]
  },
  {
   "cell_type": "code",
   "execution_count": 4,
   "metadata": {},
   "outputs": [
    {
     "name": "stdout",
     "output_type": "stream",
     "text": [
      "from django.db import models\n",
      "from django.conf import settings\n",
      "from django.contrib.auth.models import User\n",
      "from django.db.models.signals import post_save\n",
      "from django.dispatch import receiver\n",
      "import uuid\n",
      "from simple_history.models import HistoricalRecords\n",
      "from .splunk import *\n",
      "\n",
      "\n",
      "\n",
      "from django.db import models\n",
      "from simple_history.models import HistoricalRecords\n",
      "\n",
      "class AbstractModel(models.Model):\n",
      "    id = models.UUIDField(primary_key=True, default=uuid.uuid4, editable=False)\n",
      "    #question = models.CharField(max_length=200)\n",
      "    #pub_date = models.DateTimeField('date published')\n",
      "    changed_by = models.ForeignKey('auth.User', on_delete=models.PROTECT, editable=False)\n",
      "    history = HistoricalRecords(inherit=True)\n",
      "\n",
      "    @property\n",
      "    def _history_user(self):\n",
      "        return self.changed_by\n",
      "\n",
      "    @_history_user.setter\n",
      "    def _history_user(self, value):\n",
      "        self.changed_by = value\n",
      "\n",
      "    class Meta:\n",
      "        abstract = True\n",
      "\n",
      "class Author(AbstractModel):\n",
      "    name = models.CharField(\"Author\", max_length=20)\n",
      "    #history = HistoricalRecords()\n",
      "\n",
      "    def __str__(self):\n",
      "        return self.name\n",
      "\n",
      "    class Meta:\n",
      "        ordering = ('id',)\n",
      "\n",
      "\n",
      "class Book(AbstractModel):\n",
      "    title = models.CharField(\"Title\",max_length=100)\n",
      "    author = models.ForeignKey(Author,related_name='books',on_delete=models.CASCADE)\n",
      "    #history = HistoricalRecords()\n",
      "\n",
      "    def __str__(self):\n",
      "        return self.title\n",
      "\n",
      "    class Meta:\n",
      "        ordering = ('id',)\n",
      "\n",
      "\n",
      "\n",
      "@receiver(post_save, sender=Book)\n",
      "def send_to_splunk(sender, **kwargs):\n",
      "    print(len(sender.history.all()))\n",
      "    # serialized = BookSerializer(sender)\n",
      "    #for h in sender.history.all():\n",
      "    #    print(splunkcheck('bookstore', h.history_id))\n",
      "    # splunklog('bookstore', serialized)\n",
      "\n"
     ]
    }
   ],
   "source": [
    "file = '/bookstore/bookstore/models.py'    \n",
    "\n",
    "splunk = True\n",
    "# splunk = False\n",
    "\n",
    "with open(file, 'w') as file:\n",
    "    template = Template(open('/templates/models.j2', 'r').read())\n",
    "    print(template.render(splunk=splunk))\n",
    "    file.write(template.render(splunk=splunk))\n",
    "    file.close()"
   ]
  },
  {
   "cell_type": "markdown",
   "metadata": {},
   "source": [
    "## Challenge #8\n",
    "### Logging to Splunk\n",
    "Create a token and post a log message"
   ]
  },
  {
   "cell_type": "code",
   "execution_count": 5,
   "metadata": {},
   "outputs": [],
   "source": [
    "# def get_token(url, username, password):\n",
    "#     payload = {'username': username, 'password': password}\n",
    "#     headers = {'Content-type': 'application/json'}\n",
    "#     return requests.post(f'{url}/token/', json=payload, headers=headers).json()['access']\n",
    "\n",
    "# url = 'http://bookstore:8000/api'\n",
    "# token = get_token(url, 'carlos.carrot', 'secret123')\n",
    "# headers = {'Content-type': 'application/json', 'Authorization': f'Bearer {token}'}\n",
    "# response = requests.get(f'{url}/book', headers=headers).json()\n",
    "# books = response['results']\n",
    "# while response['count'] > len(books):\n",
    "#     books += requests.get(response['next'], headers=headers).json()['results']\n",
    "\n",
    "# rand_book = books[randint(0, len(books)-1)]\n",
    "# rand_book = requests.get(rand_book['url'], headers=headers).json()\n",
    "# rand_book['title'] += \" Quirk\"\n",
    "# rand_book\n",
    "# book = requests.put(rand_book['url'], json=rand_book, headers=headers).json()\n",
    "# book"
   ]
  },
  {
   "cell_type": "code",
   "execution_count": 6,
   "metadata": {},
   "outputs": [],
   "source": [
    "# from bookstore.models import *\n",
    "\n",
    "# my_book = Book.objects.get(id=book['id'])\n",
    "\n",
    "# for h in my_book.history.all():\n",
    "#     print(h)\n",
    "\n",
    "# my_book.history.all()"
   ]
  },
  {
   "cell_type": "code",
   "execution_count": 7,
   "metadata": {},
   "outputs": [],
   "source": [
    "# requests.get(f'{url}/book?author=Ray%20Bradbury', headers=headers).json()"
   ]
  },
  {
   "cell_type": "code",
   "execution_count": 8,
   "metadata": {},
   "outputs": [
    {
     "name": "stdout",
     "output_type": "stream",
     "text": [
      "{\n",
      "    \"id\": \"https://splunk:8089/servicesNS/nobody/search/data/indexes/bookstore_index\",\n",
      "    \"name\": \"bookstore_index\",\n",
      "    \"updated\": \"2022-08-25T09:56:24+00:00\"\n",
      "}\n",
      "\n",
      "{\n",
      "    \"description\": \"Bookstore Token\",\n",
      "    \"id\": \"https://splunk:8089/servicesNS/nobody/splunk_httpinput/data/inputs/http/http%3A%252F%252Fbookstore\",\n",
      "    \"name\": \"http://bookstore\",\n",
      "    \"token\": \"650ddb57-2112-479c-bbf0-da56b8ba1717\",\n",
      "    \"updated\": \"2022-08-25T09:56:26+00:00\"\n",
      "}\n"
     ]
    }
   ],
   "source": [
    "from bookstore.splunk import *\n",
    "\n",
    "app = 'bookstore'\n",
    "\n",
    "index = get_splunk_index(app)\n",
    "print(json.dumps(index, indent=4, sort_keys=True))\n",
    "\n",
    "input_http, splunk_token = get_splunk_input_http(app)\n",
    "print(json.dumps(input_http, indent=4, sort_keys=True))"
   ]
  },
  {
   "cell_type": "markdown",
   "metadata": {},
   "source": [
    "## Check Collector"
   ]
  },
  {
   "cell_type": "code",
   "execution_count": 9,
   "metadata": {},
   "outputs": [
    {
     "name": "stdout",
     "output_type": "stream",
     "text": [
      "{\n",
      "    \"code\": 17,\n",
      "    \"text\": \"HEC is healthy\"\n",
      "}\n"
     ]
    }
   ],
   "source": [
    "url = \"https://splunk:8088/services/collector\"\n",
    "headers = {\n",
    "    'Content-Type': 'application/json',\n",
    "    'Authorization': f'Splunk {splunk_token}'\n",
    "}\n",
    "\n",
    "response = requests.get(f\"{url}/health\", headers=headers, verify=False).json()\n",
    "print(json.dumps(response, indent=4, sort_keys=True))"
   ]
  },
  {
   "cell_type": "markdown",
   "metadata": {},
   "source": [
    "## Upload log entries"
   ]
  },
  {
   "cell_type": "code",
   "execution_count": 16,
   "metadata": {},
   "outputs": [
    {
     "data": {
      "text/plain": [
       "<QuerySet [<HistoricalBook: Pride and Prejudice - HHH as of 2022-08-25 10:02:41.270661+00:00>, <HistoricalBook: Pride and Prejudice - HHH as of 2022-08-25 09:54:46.616683+00:00>, <HistoricalBook: Pride and Prejudice - HHH as of 2022-08-25 09:54:02.851014+00:00>, <HistoricalBook: Pride and Prejudice - HHH as of 2022-08-25 09:53:11.057830+00:00>, <HistoricalBook: Pride and Prejudice - HHH as of 2022-08-25 09:51:43.084093+00:00>, <HistoricalBook: Pride and Prejudice - HHH as of 2022-08-25 09:51:06.977031+00:00>, <HistoricalBook: Pride and Prejudice - HHH as of 2022-08-25 09:50:33.743273+00:00>, <HistoricalBook: Pride and Prejudice - HHH as of 2022-08-25 09:50:00.716673+00:00>, <HistoricalBook: Pride and Prejudice - HHH as of 2022-08-25 09:49:33.971927+00:00>, <HistoricalBook: Pride and Prejudice - HHH as of 2022-08-25 09:49:12.682485+00:00>, <HistoricalBook: Pride and Prejudice - HHH as of 2022-08-25 09:47:34.061855+00:00>, <HistoricalBook: Pride and Prejudice - HHH as of 2022-08-25 09:36:44.489165+00:00>, <HistoricalBook: The Catcher in the Rye as of 2022-08-25 09:33:56.826185+00:00>, <HistoricalBook: The Catcher in the Rye as of 2022-08-25 09:33:31.978892+00:00>, <HistoricalBook: Fahrenheit 451 as of 2022-08-25 09:27:58.719779+00:00>, <HistoricalBook: 1984 - Second Edition as of 2022-08-25 09:09:34.698097+00:00>, <HistoricalBook: Persuasion as of 2022-08-25 09:09:34.377828+00:00>, <HistoricalBook: Lord of the Flies as of 2022-08-25 09:09:34.369149+00:00>, <HistoricalBook: Fahrenheit 451 as of 2022-08-25 09:09:34.359378+00:00>, <HistoricalBook: Jane Eyre as of 2022-08-25 09:09:34.346529+00:00>, '...(remaining elements truncated)...']>"
      ]
     },
     "execution_count": 16,
     "metadata": {},
     "output_type": "execute_result"
    }
   ],
   "source": [
    "from bookstore.models import HistoricalBook\n",
    "\n",
    "HistoricalBook.objects.last().changed_by.username\n",
    "HistoricalBook.objects.all()"
   ]
  },
  {
   "cell_type": "code",
   "execution_count": null,
   "metadata": {},
   "outputs": [],
   "source": [
    "import random\n",
    "\n",
    "for i in range(0,4):\n",
    "    users = [\"Anna\", \"Bob\", \"Carlos\"]\n",
    "    dict = { 'message' : \"Dummy test python client log\", 'user': random.choice(users)}\n",
    "    log = splunklog('bookstore', dict)\n",
    "    print(log)"
   ]
  },
  {
   "cell_type": "code",
   "execution_count": null,
   "metadata": {},
   "outputs": [],
   "source": [
    "dict = { 'message' : \"Dummy test Python client log\", 'id': 12345}\n",
    "log = splunklog('bookstore', dict)\n",
    "print(log)"
   ]
  },
  {
   "cell_type": "code",
   "execution_count": null,
   "metadata": {
    "scrolled": false
   },
   "outputs": [],
   "source": [
    "from time import sleep\n",
    "\n",
    "endpoint = \"https://splunk:8089\"\n",
    "auth = ('admin', 'secret123')\n",
    "data = {\n",
    "    'search': f'search index={app}_index AND id=12345',\n",
    "    'output_mode':'json'\n",
    "}\n",
    "response = requests.post(f\"{endpoint}/services/search/jobs\", data=data, auth=auth, verify=False).json()\n",
    "sid=response['sid']\n",
    "\n",
    "while True:\n",
    "    response = requests.get(f\"{endpoint}/services/search/jobs/{sid}\", data=data, auth=auth, verify=False).json()\n",
    "    if response['entry'][0]['content']['isDone']:\n",
    "        break\n",
    "    else:\n",
    "        sleep(1)\n",
    "\n",
    "url = f\"{endpoint}{response['entry'][0]['links']['events']}\"\n",
    "response = requests.get(url, data=data, auth=auth, verify=False).json()\n",
    "for log in response['results']:\n",
    "    print(json.dumps(json.loads(log['_raw']), indent=4, sort_keys=True))"
   ]
  }
 ],
 "metadata": {
  "kernelspec": {
   "display_name": "Python 3 (ipykernel)",
   "language": "python",
   "name": "python3"
  },
  "language_info": {
   "codemirror_mode": {
    "name": "ipython",
    "version": 3
   },
   "file_extension": ".py",
   "mimetype": "text/x-python",
   "name": "python",
   "nbconvert_exporter": "python",
   "pygments_lexer": "ipython3",
   "version": "3.10.6"
  }
 },
 "nbformat": 4,
 "nbformat_minor": 4
}
