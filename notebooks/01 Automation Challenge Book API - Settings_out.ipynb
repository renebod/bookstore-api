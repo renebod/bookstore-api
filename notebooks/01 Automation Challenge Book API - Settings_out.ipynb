{
 "cells": [
  {
   "cell_type": "markdown",
   "metadata": {},
   "source": [
    "## Python imports"
   ]
  },
  {
   "cell_type": "code",
   "execution_count": 1,
   "metadata": {
    "execution": {
     "iopub.execute_input": "2022-08-10T09:47:07.249435Z",
     "iopub.status.busy": "2022-08-10T09:47:07.248906Z",
     "iopub.status.idle": "2022-08-10T09:47:07.412018Z",
     "shell.execute_reply": "2022-08-10T09:47:07.411030Z"
    },
    "scrolled": true
   },
   "outputs": [],
   "source": [
    "import os\n",
    "import shutil\n",
    "import requests\n",
    "from bs4 import BeautifulSoup\n",
    "import time\n",
    "import json"
   ]
  },
  {
   "cell_type": "markdown",
   "metadata": {},
   "source": [
    "## Show Django default Page Title"
   ]
  },
  {
   "cell_type": "code",
   "execution_count": 2,
   "metadata": {
    "execution": {
     "iopub.execute_input": "2022-08-10T09:47:07.417785Z",
     "iopub.status.busy": "2022-08-10T09:47:07.417312Z",
     "iopub.status.idle": "2022-08-10T09:47:07.422462Z",
     "shell.execute_reply": "2022-08-10T09:47:07.421551Z"
    }
   },
   "outputs": [],
   "source": [
    "url = 'http://bookstore:8000'\n",
    "\n",
    "def page_title(url):\n",
    "    page = requests.get(url)\n",
    "    soup = BeautifulSoup(page.content, 'html.parser')\n",
    "    return soup.title.string"
   ]
  },
  {
   "cell_type": "code",
   "execution_count": 3,
   "metadata": {
    "execution": {
     "iopub.execute_input": "2022-08-10T09:47:07.427159Z",
     "iopub.status.busy": "2022-08-10T09:47:07.426301Z",
     "iopub.status.idle": "2022-08-10T09:47:07.598291Z",
     "shell.execute_reply": "2022-08-10T09:47:07.597362Z"
    }
   },
   "outputs": [
    {
     "data": {
      "text/plain": [
       "'DisallowedHost\\n          at /'"
      ]
     },
     "execution_count": 3,
     "metadata": {},
     "output_type": "execute_result"
    }
   ],
   "source": [
    "page_title(url)"
   ]
  },
  {
   "cell_type": "markdown",
   "metadata": {},
   "source": [
    "### Let's fix this message"
   ]
  },
  {
   "cell_type": "code",
   "execution_count": 4,
   "metadata": {
    "execution": {
     "iopub.execute_input": "2022-08-10T09:47:07.653760Z",
     "iopub.status.busy": "2022-08-10T09:47:07.653316Z",
     "iopub.status.idle": "2022-08-10T09:47:07.669533Z",
     "shell.execute_reply": "2022-08-10T09:47:07.668742Z"
    }
   },
   "outputs": [
    {
     "name": "stdout",
     "output_type": "stream",
     "text": [
      "__init__.py\n"
     ]
    },
    {
     "name": "stdout",
     "output_type": "stream",
     "text": [
      "__pycache__\n"
     ]
    },
    {
     "name": "stdout",
     "output_type": "stream",
     "text": [
      "asgi.py\n"
     ]
    },
    {
     "name": "stdout",
     "output_type": "stream",
     "text": [
      "settings.py\n"
     ]
    },
    {
     "name": "stdout",
     "output_type": "stream",
     "text": [
      "urls.py\n"
     ]
    },
    {
     "name": "stdout",
     "output_type": "stream",
     "text": [
      "wsgi.py\n"
     ]
    }
   ],
   "source": [
    "%%bash\n",
    "\n",
    "ls /bookstore/project"
   ]
  },
  {
   "cell_type": "code",
   "execution_count": 5,
   "metadata": {
    "execution": {
     "iopub.execute_input": "2022-08-10T09:47:07.673430Z",
     "iopub.status.busy": "2022-08-10T09:47:07.672863Z",
     "iopub.status.idle": "2022-08-10T09:47:07.679981Z",
     "shell.execute_reply": "2022-08-10T09:47:07.678992Z"
    }
   },
   "outputs": [],
   "source": [
    "with open(\"/bookstore/project/settings.py\", \"r+\") as file:\n",
    "    data = file.read()\n",
    "    data = data.replace(\"ALLOWED_HOSTS = []\", \"ALLOWED_HOSTS = [\\'bookstore\\', \\'*\\']\")\n",
    "    data = data.replace(\"\\n\\nfrom pathlib import Path\", \"\\n\\nimport os\\nfrom pathlib import Path\")\n",
    "    data = data.replace(\"'DIRS': []\", \"'DIRS': [os.path.join(BASE_DIR, 'templates')]\")\n",
    "    with open(\"/bookstore/project/settings.py\", \"w\") as file:\n",
    "        write_file = file.write(data)"
   ]
  },
  {
   "cell_type": "code",
   "execution_count": 6,
   "metadata": {
    "execution": {
     "iopub.execute_input": "2022-08-10T09:47:07.684569Z",
     "iopub.status.busy": "2022-08-10T09:47:07.683937Z",
     "iopub.status.idle": "2022-08-10T09:47:07.692413Z",
     "shell.execute_reply": "2022-08-10T09:47:07.691155Z"
    }
   },
   "outputs": [
    {
     "data": {
      "text/plain": [
       "'/bookstore/templates/registration/login.html'"
      ]
     },
     "execution_count": 6,
     "metadata": {},
     "output_type": "execute_result"
    }
   ],
   "source": [
    "path = \"/bookstore/templates/registration\"\n",
    "\n",
    "if not os.path.exists(path):\n",
    "     os.makedirs(path)\n",
    "\n",
    "src = \"/templates/login.html\"\n",
    "dst = f\"{path}/login.html\"\n",
    "shutil.copyfile(src, dst)"
   ]
  },
  {
   "cell_type": "code",
   "execution_count": 7,
   "metadata": {
    "execution": {
     "iopub.execute_input": "2022-08-10T09:47:07.696802Z",
     "iopub.status.busy": "2022-08-10T09:47:07.696104Z",
     "iopub.status.idle": "2022-08-10T09:47:12.728591Z",
     "shell.execute_reply": "2022-08-10T09:47:12.727561Z"
    }
   },
   "outputs": [
    {
     "data": {
      "text/plain": [
       "'The install worked successfully! Congratulations!'"
      ]
     },
     "execution_count": 7,
     "metadata": {},
     "output_type": "execute_result"
    }
   ],
   "source": [
    "time.sleep(5)\n",
    "page_title(url)"
   ]
  }
 ],
 "metadata": {
  "kernelspec": {
   "display_name": "Python 3 (ipykernel)",
   "language": "python",
   "name": "python3"
  },
  "language_info": {
   "codemirror_mode": {
    "name": "ipython",
    "version": 3
   },
   "file_extension": ".py",
   "mimetype": "text/x-python",
   "name": "python",
   "nbconvert_exporter": "python",
   "pygments_lexer": "ipython3",
   "version": "3.10.6"
  }
 },
 "nbformat": 4,
 "nbformat_minor": 4
}
