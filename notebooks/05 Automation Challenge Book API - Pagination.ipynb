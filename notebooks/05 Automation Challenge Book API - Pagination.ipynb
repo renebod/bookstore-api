{
 "cells": [
  {
   "cell_type": "markdown",
   "metadata": {},
   "source": [
    "## Python imports"
   ]
  },
  {
   "cell_type": "code",
   "execution_count": null,
   "metadata": {
    "scrolled": true
   },
   "outputs": [],
   "source": [
    "import requests\n",
    "import json\n",
    "import os\n",
    "import sys"
   ]
  },
  {
   "cell_type": "markdown",
   "metadata": {},
   "source": [
    "### _Load Django into Jupyter_"
   ]
  },
  {
   "cell_type": "code",
   "execution_count": null,
   "metadata": {},
   "outputs": [],
   "source": [
    "sys.path.append('/bookstore')\n",
    "sys.path.append('/bookstore/project')\n",
    "os.environ['DJANGO_SETTINGS_MODULE'] = 'project.settings'\n",
    "os.environ['DJANGO_ALLOW_ASYNC_UNSAFE'] = 'true'\n",
    "import django\n",
    "django.setup()"
   ]
  },
  {
   "cell_type": "markdown",
   "metadata": {},
   "source": [
    "## Pagination"
   ]
  },
  {
   "cell_type": "code",
   "execution_count": null,
   "metadata": {},
   "outputs": [],
   "source": [
    "applist = \"JWTAuthentication',\\n\\\n",
    "    ],\\n\\\n",
    "}\\n\\n\\n\"\n",
    "\n",
    "\n",
    "newlist = \"JWTAuthentication',\\n\\\n",
    "    ],\\n\\\n",
    "    'DEFAULT_PAGINATION_CLASS': 'rest_framework.pagination.PageNumberPagination',\\n\\\n",
    "    'PAGE_SIZE': 5\\n\\\n",
    "}\\n\\n\\n\""
   ]
  },
  {
   "cell_type": "code",
   "execution_count": null,
   "metadata": {},
   "outputs": [],
   "source": [
    "file = '/bookstore/project/settings.py'\n",
    "    \n",
    "with open(file, 'r') as settings_file:\n",
    "    data = settings_file.read()\n",
    "    data = data.replace(applist, newlist)\n",
    "with open(file, 'w') as settings_file:\n",
    "    write_file = settings_file.write(data)"
   ]
  },
  {
   "cell_type": "markdown",
   "metadata": {},
   "source": [
    "### _let's check . . ._"
   ]
  },
  {
   "cell_type": "code",
   "execution_count": null,
   "metadata": {},
   "outputs": [],
   "source": [
    "def get_token(url, username, password):\n",
    "    payload = {'username': username, 'password': password}\n",
    "    headers = {'Content-type': 'application/json'}\n",
    "    return requests.post(f'{url}/api/token/', json=payload, headers=headers).json()['access']"
   ]
  },
  {
   "cell_type": "code",
   "execution_count": null,
   "metadata": {},
   "outputs": [],
   "source": [
    "url = 'http://bookstore:8000'\n",
    "token = get_token(url, 'carlos.carrot', 'secret123')\n",
    "headers = {'Content-type': 'application/json', 'Authorization': f'Bearer {token}'}\n",
    "requests.get(f'{url}/book', headers=headers).json()"
   ]
  },
  {
   "cell_type": "markdown",
   "metadata": {},
   "source": [
    "## Challenge #5\n",
    "### Obtaining all API Book objects\n",
    "Obtain all objects with pagination"
   ]
  }
 ],
 "metadata": {
  "kernelspec": {
   "display_name": "Python 3 (ipykernel)",
   "language": "python",
   "name": "python3"
  },
  "language_info": {
   "codemirror_mode": {
    "name": "ipython",
    "version": 3
   },
   "file_extension": ".py",
   "mimetype": "text/x-python",
   "name": "python",
   "nbconvert_exporter": "python",
   "pygments_lexer": "ipython3",
   "version": "3.10.4"
  }
 },
 "nbformat": 4,
 "nbformat_minor": 4
}
