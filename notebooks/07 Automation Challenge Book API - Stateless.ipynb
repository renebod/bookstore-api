{
 "cells": [
  {
   "cell_type": "markdown",
   "metadata": {},
   "source": [
    "## Python imports"
   ]
  },
  {
   "cell_type": "code",
   "execution_count": null,
   "metadata": {
    "scrolled": true
   },
   "outputs": [],
   "source": [
    "import requests\n",
    "import json\n",
    "import os\n",
    "import sys\n",
    "import sqlite3"
   ]
  },
  {
   "cell_type": "markdown",
   "metadata": {},
   "source": [
    "### _Load Django into Jupyter_"
   ]
  },
  {
   "cell_type": "code",
   "execution_count": null,
   "metadata": {},
   "outputs": [],
   "source": [
    "sys.path.append('/bookstore')\n",
    "sys.path.append('/bookstore/project')\n",
    "os.environ['DJANGO_SETTINGS_MODULE'] = 'project.settings'\n",
    "os.environ['DJANGO_ALLOW_ASYNC_UNSAFE'] = 'true'\n",
    "import django\n",
    "django.setup()"
   ]
  },
  {
   "cell_type": "code",
   "execution_count": null,
   "metadata": {},
   "outputs": [],
   "source": [
    "%%bash\n",
    "\n",
    "cat /docker-compose.yml"
   ]
  },
  {
   "cell_type": "markdown",
   "metadata": {},
   "source": [
    "## ## Challenge #7\n",
    "### Let's remove mounts"
   ]
  },
  {
   "cell_type": "code",
   "execution_count": null,
   "metadata": {},
   "outputs": [],
   "source": [
    "old_compose = \"  bookstore:\\n\\\n",
    "    build:\\n\\\n",
    "      context: ./docker\\n\\\n",
    "    image: bookstore_custom\\n\\\n",
    "    command:  bash -c \\\"python manage.py migrate && python manage.py runserver 0.0.0.0:8000\\\"\\n\\\n",
    "    volumes:\\n\\\n",
    "      - ./code/:/code\\n\\\n",
    "    ports:\\n\\\n",
    "      - 8000:8000\\n\\\n",
    "    networks:\\n\\\n",
    "      - lab_network\"\n",
    "\n",
    "\n",
    "new_compose = \"  bookstore_builder:\\n\\\n",
    "    build:\\n\\\n",
    "      context: ./\\n\\\n",
    "      dockerfile: ./docker/Dockerfile\\n\\\n",
    "    image: bookstore_custom\\n\\\n",
    "\\n\\\n",
    "  bookstore01:\\n\\\n",
    "    image: bookstore_custom\\n\\\n",
    "    ports:\\n\\\n",
    "      - 8021:8000\\n\\\n",
    "    networks:\\n\\\n",
    "      - lab_network\\n\\\n",
    "\\n\\\n",
    "  bookstore02:\\n\\\n",
    "    image: bookstore_custom\\n\\\n",
    "    ports:\\n\\\n",
    "      - 8022:8000\\n\\\n",
    "    networks:\\n\\\n",
    "      - lab_network\\n\\\n",
    "\\n\\\n",
    "  bookstore03:\\n\\\n",
    "    image: bookstore_custom\\n\\\n",
    "    ports:\\n\\\n",
    "      - 8023:8000\\n\\\n",
    "    networks:\\n\\\n",
    "      - lab_network\""
   ]
  },
  {
   "cell_type": "code",
   "execution_count": null,
   "metadata": {},
   "outputs": [],
   "source": [
    "file = '/docker-compose.yml'\n",
    "    \n",
    "with open(file, 'r') as settings_file:\n",
    "    data = settings_file.read()\n",
    "    data = data.replace(old_compose, new_compose)\n",
    "with open(file, 'w') as settings_file:\n",
    "    write_file = settings_file.write(data)"
   ]
  },
  {
   "cell_type": "code",
   "execution_count": null,
   "metadata": {},
   "outputs": [],
   "source": [
    "with open(file) as fp:\n",
    "    for l in [line for i, line in enumerate(fp) if i >= 4 and i <= 32]:\n",
    "        print(l.strip('\\n'))"
   ]
  },
  {
   "cell_type": "markdown",
   "metadata": {},
   "source": [
    "## Rerun startme\n",
    "### If there are errors, fix the missing parts\n",
    "### _let's check . . ._"
   ]
  },
  {
   "cell_type": "code",
   "execution_count": null,
   "metadata": {},
   "outputs": [],
   "source": [
    "nodes = ['bookstore01', 'bookstore02', 'bookstore03']\n",
    "\n",
    "for n in nodes:\n",
    "    url = f'http://{n}:8000/book/'\n",
    "    print(url)\n",
    "    headers = {'Content-type': 'application/json'}\n",
    "    response = requests.get(url, headers=headers).json()\n",
    "    print(f\"This node has {response['count']} entries\")"
   ]
  }
 ],
 "metadata": {
  "kernelspec": {
   "display_name": "Python 3",
   "language": "python",
   "name": "python3"
  },
  "language_info": {
   "codemirror_mode": {
    "name": "ipython",
    "version": 3
   },
   "file_extension": ".py",
   "mimetype": "text/x-python",
   "name": "python",
   "nbconvert_exporter": "python",
   "pygments_lexer": "ipython3",
   "version": "3.8.6"
  }
 },
 "nbformat": 4,
 "nbformat_minor": 4
}
